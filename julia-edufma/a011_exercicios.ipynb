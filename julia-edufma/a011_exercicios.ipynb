{
 "cells": [
  {
   "cell_type": "code",
   "execution_count": 3,
   "id": "7936e793-73ad-479c-95c1-39a77f7fb539",
   "metadata": {},
   "outputs": [
    {
     "name": "stdout",
     "output_type": "stream",
     "text": [
      "Digite o 1 º valor: \n"
     ]
    },
    {
     "name": "stdin",
     "output_type": "stream",
     "text": [
      "stdin>  1\n"
     ]
    },
    {
     "name": "stdout",
     "output_type": "stream",
     "text": [
      "Digite o 2 º valor: \n"
     ]
    },
    {
     "name": "stdin",
     "output_type": "stream",
     "text": [
      "stdin>  2\n"
     ]
    },
    {
     "name": "stdout",
     "output_type": "stream",
     "text": [
      "Digite o 3 º valor: \n"
     ]
    },
    {
     "name": "stdin",
     "output_type": "stream",
     "text": [
      "stdin>  3\n"
     ]
    },
    {
     "name": "stdout",
     "output_type": "stream",
     "text": [
      "Digite o 4 º valor: \n"
     ]
    },
    {
     "name": "stdin",
     "output_type": "stream",
     "text": [
      "stdin>  4\n"
     ]
    },
    {
     "name": "stdout",
     "output_type": "stream",
     "text": [
      "Digite o 5 º valor: \n"
     ]
    },
    {
     "name": "stdin",
     "output_type": "stream",
     "text": [
      "stdin>  5\n"
     ]
    },
    {
     "name": "stdout",
     "output_type": "stream",
     "text": [
      "[3, 6, 9, 12, 15]\n"
     ]
    }
   ],
   "source": [
    "# 1.\n",
    "function triplo_fn(x)\n",
    "    return 3 * x\n",
    "end\n",
    "\n",
    "valores = []\n",
    "for i in 1:5\n",
    "    println(\"Digite o $i º valor: \")\n",
    "    append!(valores, parse(Int, readline()))\n",
    "end\n",
    "println(triplo_fn.(valores))"
   ]
  },
  {
   "cell_type": "code",
   "execution_count": 4,
   "id": "743dd790-8ee2-44f2-9f31-2b0d1a358217",
   "metadata": {},
   "outputs": [
    {
     "name": "stdout",
     "output_type": "stream",
     "text": [
      "90.99\n"
     ]
    }
   ],
   "source": [
    "# 2.\n",
    "function maior_fn(vetor)\n",
    "    maior = vetor[1]\n",
    "    for i in 1:length(vetor)\n",
    "        if vetor[i] > maior\n",
    "            maior = vetor[i]\n",
    "        end\n",
    "    end\n",
    "    return maior\n",
    "end\n",
    "\n",
    "v = [1.2, 4.5, 8.9, 90.99, 12,87]\n",
    "println(maior_fn(v))"
   ]
  },
  {
   "cell_type": "code",
   "execution_count": 5,
   "id": "5ba3825b-4b62-4fbc-afbc-300fc1360ab8",
   "metadata": {},
   "outputs": [
    {
     "name": "stdout",
     "output_type": "stream",
     "text": [
      "Hipotenusa: 5.0\n"
     ]
    }
   ],
   "source": [
    "# 3.\n",
    "function hip_fn(a, b)\n",
    "    return sqrt(a^2 + b^2)\n",
    "end\n",
    "\n",
    "hip = hip_fn(3, 4)\n",
    "println(\"Hipotenusa: $hip\")"
   ]
  },
  {
   "cell_type": "code",
   "execution_count": 33,
   "id": "8c1a5483-8ad3-4e74-9597-9432ab8c6b97",
   "metadata": {},
   "outputs": [
    {
     "name": "stdout",
     "output_type": "stream",
     "text": [
      "Escolha um valor inteiro entre 1 e 20: \n"
     ]
    },
    {
     "name": "stdin",
     "output_type": "stream",
     "text": [
      "stdin>  4\n"
     ]
    },
    {
     "name": "stdout",
     "output_type": "stream",
     "text": [
      "Acertou!\n",
      "PC: 4 , JOG: 4\n"
     ]
    }
   ],
   "source": [
    "# 4.\n",
    "function jogo_fn()\n",
    "    pc = rand(1:10)\n",
    "    println(\"Escolha um valor inteiro entre 1 e 20: \")\n",
    "    jog = parse(Int, readline())\n",
    "    if jog == pc\n",
    "        println(\"Acertou!\")\n",
    "    else\n",
    "        println(\"Errou!\")\n",
    "    end\n",
    "    println(\"PC: $pc , JOG: $jog\")\n",
    "end\n",
    "\n",
    "jogo_fn()"
   ]
  },
  {
   "cell_type": "code",
   "execution_count": 34,
   "id": "f1040c73-e93b-47b7-8451-83fa4b709b86",
   "metadata": {},
   "outputs": [
    {
     "name": "stdout",
     "output_type": "stream",
     "text": [
      "Seu peso ideal e: 70.679 Kg ...\n"
     ]
    }
   ],
   "source": [
    "# 5.\n",
    "# 6.\n",
    "function peso_fn(altura, sexo)\n",
    "    if sexo == \"M\"\n",
    "        return (72.7 * altura) - 58\n",
    "    else\n",
    "        return (62.1 * altura) - 44.7\n",
    "    end\n",
    "end\n",
    "\n",
    "peso_ideal = peso_fn(1.77, \"M\")\n",
    "println(\"Seu peso ideal e: $peso_ideal Kg ...\")"
   ]
  },
  {
   "cell_type": "code",
   "execution_count": 35,
   "id": "86a7a025-477b-449c-972a-3589463e3e9c",
   "metadata": {},
   "outputs": [
    {
     "name": "stdout",
     "output_type": "stream",
     "text": [
      "1\n",
      "0\n"
     ]
    }
   ],
   "source": [
    "# 7.\n",
    "function vogal_fn(v)\n",
    "    if v in [\"a\", \"A\", \"e\", \"E\", \"i\", \"I\", \"o\", \"O\", \"u\", \"U\"]\n",
    "        return 1\n",
    "    else\n",
    "        return 0\n",
    "    end\n",
    "end\n",
    "\n",
    "println(vogal_fn(\"A\"))\n",
    "println(vogal_fn(\"Z\"))"
   ]
  },
  {
   "cell_type": "code",
   "execution_count": 38,
   "id": "fd7e0022-24a7-42dc-a463-a1a9d36c21a5",
   "metadata": {},
   "outputs": [
    {
     "name": "stdout",
     "output_type": "stream",
     "text": [
      "#####\n",
      "#####\n",
      "#####\n",
      "#####\n",
      "#####\n"
     ]
    }
   ],
   "source": [
    "# 8.\n",
    "# 9.\n",
    "# 10.\n",
    "function hashtags_fn(n)\n",
    "    h = \"\"\n",
    "    for i in 1:n\n",
    "        h = h * \"#\"\n",
    "    end\n",
    "    for i in 1:n\n",
    "        println(h)\n",
    "    end\n",
    "end\n",
    "\n",
    "hashtags_fn(5)"
   ]
  }
 ],
 "metadata": {
  "kernelspec": {
   "display_name": "Julia 1.11.4",
   "language": "julia",
   "name": "julia-1.11"
  },
  "language_info": {
   "file_extension": ".jl",
   "mimetype": "application/julia",
   "name": "julia",
   "version": "1.11.4"
  }
 },
 "nbformat": 4,
 "nbformat_minor": 5
}
