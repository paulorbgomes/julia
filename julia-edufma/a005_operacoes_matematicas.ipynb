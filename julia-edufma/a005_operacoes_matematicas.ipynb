{
 "cells": [
  {
   "cell_type": "code",
   "execution_count": 6,
   "id": "d284f53f-1b07-497f-8a98-2454aec58412",
   "metadata": {},
   "outputs": [
    {
     "name": "stdout",
     "output_type": "stream",
     "text": [
      "8\n",
      "-2\n",
      "15\n",
      "0.6\n",
      "243\n",
      "3\n"
     ]
    }
   ],
   "source": [
    "# Operacoes matematicas\n",
    "x = 3\n",
    "y = 5\n",
    "println(x + y)\n",
    "println(x - y)\n",
    "println(x * y)\n",
    "println(x / y)\n",
    "println(x ^ y)\n",
    "println(x % y)"
   ]
  },
  {
   "cell_type": "code",
   "execution_count": 12,
   "id": "d9de2870-7be1-4a4f-a90f-b78b1f029448",
   "metadata": {},
   "outputs": [
    {
     "name": "stdout",
     "output_type": "stream",
     "text": [
      "Digite seu nome:\n"
     ]
    },
    {
     "name": "stdin",
     "output_type": "stream",
     "text": [
      "stdin>  Paulo\n"
     ]
    },
    {
     "name": "stdout",
     "output_type": "stream",
     "text": [
      "Seja bem-vindo(a) Paulo ...\n",
      "Digite um numero: \n"
     ]
    },
    {
     "name": "stdin",
     "output_type": "stream",
     "text": [
      "stdin>  100\n"
     ]
    },
    {
     "name": "stdout",
     "output_type": "stream",
     "text": [
      "Voce digitou o numero 100 ...\n"
     ]
    }
   ],
   "source": [
    "# Entrada de dados\n",
    "#O comando para entrada de dados é a função readline(). \n",
    "# Solicitar entrada do usuário\n",
    "println(\"Digite seu nome:\")\n",
    "nome = readline();\n",
    "println(\"Seja bem-vindo(a) $nome ...\")\n",
    "\n",
    "# Para capturar dados de tipos específicos (como números), pode usar a função parse()\n",
    "println(\"Digite um numero: \")\n",
    "numero = parse(Int, readline())\n",
    "println(\"Voce digitou o numero $numero ...\")"
   ]
  }
 ],
 "metadata": {
  "kernelspec": {
   "display_name": "Julia 1.11.4",
   "language": "julia",
   "name": "julia-1.11"
  },
  "language_info": {
   "file_extension": ".jl",
   "mimetype": "application/julia",
   "name": "julia",
   "version": "1.11.4"
  }
 },
 "nbformat": 4,
 "nbformat_minor": 5
}
