{
 "cells": [
  {
   "cell_type": "code",
   "execution_count": 57,
   "id": "73b03b51-c998-4125-9bf0-63268792c231",
   "metadata": {},
   "outputs": [
    {
     "name": "stdout",
     "output_type": "stream",
     "text": [
      "Bool[1, 1, 1]\n",
      "Bool[0, 0, 0]\n",
      "[0.0, 0.0, 0.0]\n",
      "[1.0, 1.0, 1.0]\n",
      "[0.9833453934073069, 0.686355719357178, 0.11772893965766973]\n",
      "[2, 5, 1]\n",
      "[8.15, 15.1, 20.96]\n"
     ]
    }
   ],
   "source": [
    "# Matrizes e vetores\n",
    "# Matriz (n linhas e m colunas)\n",
    "x = []   # vetor vazio\n",
    "#println(x)\n",
    "#println(typeof(x))\n",
    "\n",
    "# Vetores com valores booleanos\n",
    "x = trues(3)\n",
    "println(x)\n",
    "x = falses(3)\n",
    "println(x)\n",
    "\n",
    "# Vetores com 0s e 1s\n",
    "x = zeros(3)\n",
    "println(x)\n",
    "x = ones(3)\n",
    "println(x)\n",
    "x = rand(3)\n",
    "println(x)\n",
    "\n",
    "# Declaracao explicita de vetores\n",
    "x = [2, 5, 1]\n",
    "println(x)\n",
    "x = [8.15, 15.1, 20.96]\n",
    "println(x)"
   ]
  },
  {
   "cell_type": "code",
   "execution_count": 58,
   "id": "d2aef4d2-ed0f-4be5-bfc2-e6030d04fc60",
   "metadata": {},
   "outputs": [
    {
     "name": "stdout",
     "output_type": "stream",
     "text": [
      "5\n",
      "8\n",
      "10\n",
      "8\n"
     ]
    }
   ],
   "source": [
    "# Indexacao de vetores\n",
    "a = [5, 6, 8, 10]\n",
    "println(a[1])\n",
    "println(a[3])\n",
    "println(a[end])\n",
    "println(a[end-1])"
   ]
  },
  {
   "cell_type": "code",
   "execution_count": 59,
   "id": "70f5f6b1-6daa-4037-b631-737194c47a4d",
   "metadata": {},
   "outputs": [
    {
     "name": "stdout",
     "output_type": "stream",
     "text": [
      "[1, 2, 3, 4, 5, 6, 7, 8, 9, 10]\n",
      "[1, 3, 5, 7, 9]\n",
      "[10, 9, 8, 7, 6, 5, 4, 3, 2, 1]\n"
     ]
    }
   ],
   "source": [
    "# Fatiamento de vetores\n",
    "y = [1, 2, 3, 4, 5, 6, 7, 8, 9, 10]\n",
    "println(y[1:end])\n",
    "println(y[1:2:end])\n",
    "println(y[end:-1:1])"
   ]
  },
  {
   "cell_type": "code",
   "execution_count": 60,
   "id": "74d6c0fc-a0b4-4bdd-ad26-ffa6aa04083e",
   "metadata": {},
   "outputs": [
    {
     "name": "stdout",
     "output_type": "stream",
     "text": [
      "3\n",
      "[6, 6, 4]\n",
      "[8, 5, -32]\n",
      "[16, 25, 64]\n",
      "[2.0, 2.23606797749979, 2.8284271247461903]\n"
     ]
    }
   ],
   "source": [
    "# Operacoes com vetores\n",
    "x = [4, 5, 8]\n",
    "y = [2, 1, -4]\n",
    "println(length(x))\n",
    "println(x + y)\n",
    "println(x .* y)\n",
    "println(x .^ 2)\n",
    "println(sqrt.(x))"
   ]
  },
  {
   "cell_type": "code",
   "execution_count": 61,
   "id": "835c84ed-342d-475a-8585-89a719638b1d",
   "metadata": {},
   "outputs": [
    {
     "name": "stdout",
     "output_type": "stream",
     "text": [
      "[1 2 3; 4 5 6; 7 8 9]\n",
      "8\n",
      "[1, 2, 3]\n",
      "[3, 6, 9]\n",
      "(3, 3)\n",
      "[1 2; 4 5]\n"
     ]
    }
   ],
   "source": [
    "# Operacoes com matrizes\n",
    "x = [1 2 3; 4 5 6; 7 8 9]\n",
    "println(x)\n",
    "println(x[3,2])\n",
    "println(x[1,:])\n",
    "println(x[:,3])\n",
    "println(size(x))\n",
    "println(x[1:2,1:2])"
   ]
  },
  {
   "cell_type": "code",
   "execution_count": 62,
   "id": "69a509a6-8298-4002-af4c-4d6fa1db8baf",
   "metadata": {},
   "outputs": [
    {
     "name": "stdout",
     "output_type": "stream",
     "text": [
      "[4 2; 5 1]\n",
      "-6.0\n",
      "[-1.0, 6.0]\n",
      "5\n",
      "[-0.16666666666666663 0.8333333333333333; 0.3333333333333333 -0.6666666666666666]\n"
     ]
    }
   ],
   "source": [
    "# Operacoes de algebra linear\n",
    "using LinearAlgebra   # importacao do pacote LinearAlgebra\n",
    "A = [4 5; 2 1]\n",
    "M = transpose(A)\n",
    "println(M)\n",
    "println(det(A))\n",
    "println(eigvals(A))\n",
    "println(tr(A))\n",
    "println(inv(A))"
   ]
  },
  {
   "cell_type": "code",
   "execution_count": 79,
   "id": "e977a05e-ca84-4c36-9d48-c31b41cff1b2",
   "metadata": {},
   "outputs": [
    {
     "name": "stdout",
     "output_type": "stream",
     "text": [
      "2\n",
      "55\n",
      "55\n"
     ]
    }
   ],
   "source": [
    "# Operacoes de algebra linear em vetores\n",
    "a = [1, 2, 3, 4, 5]\n",
    "b = [4, 5, 6, 7, 8]\n",
    "\n",
    "m = a * transpose(a) + b * transpose(b)\n",
    "println(rank(m))\n",
    "\n",
    "e = transpose(a) * a\n",
    "println(e)\n",
    "println(sum(a .* a))"
   ]
  },
  {
   "cell_type": "code",
   "execution_count": 11,
   "id": "fd78971a-cc59-4b9e-adc1-eedba336e229",
   "metadata": {},
   "outputs": [
    {
     "name": "stdout",
     "output_type": "stream",
     "text": [
      "(1, 4)\n",
      "(4, 1)\n",
      "[1 2 3 4; 2 4 6 8; 3 6 9 12; 4 8 12 16]\n",
      "1\n"
     ]
    }
   ],
   "source": [
    "# Mais sobre vetores\n",
    "using LinearAlgebra\n",
    "x = [1 2 3 4]\n",
    "println(size(x))\n",
    "println(size(transpose(x)))\n",
    "println(transpose(x) * x)\n",
    "println(rank(transpose(x) * x))"
   ]
  }
 ],
 "metadata": {
  "kernelspec": {
   "display_name": "Julia 1.11.4",
   "language": "julia",
   "name": "julia-1.11"
  },
  "language_info": {
   "file_extension": ".jl",
   "mimetype": "application/julia",
   "name": "julia",
   "version": "1.11.4"
  }
 },
 "nbformat": 4,
 "nbformat_minor": 5
}
