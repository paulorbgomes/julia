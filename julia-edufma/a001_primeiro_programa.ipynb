{
 "cells": [
  {
   "cell_type": "code",
   "execution_count": 1,
   "id": "8c5385ae-4a0b-47fb-aea1-fd60c36f7b44",
   "metadata": {},
   "outputs": [
    {
     "name": "stdout",
     "output_type": "stream",
     "text": [
      "Olá, Mundo!\n",
      "Primeiro programa na linguagem Julia ...\n"
     ]
    }
   ],
   "source": [
    "# Comentarios em Julia ...\n",
    "println(\"Olá, Mundo!\")\n",
    "println(\"Primeiro programa na linguagem Julia ...\")"
   ]
  },
  {
   "cell_type": "code",
   "execution_count": 2,
   "id": "49f33f2b-9cfe-46c5-bc43-31a16ed22bf8",
   "metadata": {},
   "outputs": [
    {
     "name": "stdout",
     "output_type": "stream",
     "text": [
      "Linguagem Julia ...\n",
      "\u001b[34mLinguagem Julia ... \u001b[39m\n",
      "\u001b[31mLinguagem Julia ...\u001b[39m\n",
      "\u001b[35mLinguagem Julia ...\u001b[39m\n"
     ]
    }
   ],
   "source": [
    "# Funcao println e print\n",
    "println(\"Linguagem Julia ...\")\n",
    "printstyled(\"Linguagem Julia ... \\n\", color= :blue)\n",
    "printstyled(\"Linguagem Julia ...\\n\", color= :red)\n",
    "printstyled(\"Linguagem Julia ...\\n\", color= :magenta)"
   ]
  }
 ],
 "metadata": {
  "kernelspec": {
   "display_name": "Julia 1.11.4",
   "language": "julia",
   "name": "julia-1.11"
  },
  "language_info": {
   "file_extension": ".jl",
   "mimetype": "application/julia",
   "name": "julia",
   "version": "1.11.4"
  }
 },
 "nbformat": 4,
 "nbformat_minor": 5
}
