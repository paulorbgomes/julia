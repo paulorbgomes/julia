{
 "cells": [
  {
   "cell_type": "code",
   "execution_count": 10,
   "id": "65590014-888d-4490-870c-2df92c0d2b76",
   "metadata": {},
   "outputs": [
    {
     "name": "stdout",
     "output_type": "stream",
     "text": [
      "100 e maior que 10 ...\n",
      "Fim do programa ...\n"
     ]
    }
   ],
   "source": [
    "# Condicionais\n",
    "\n",
    "# Comando if\n",
    "i = 100\n",
    "if (i>10)\n",
    "    println(\"$i e maior que 10 ...\")\n",
    "end\n",
    "println(\"Fim do programa ...\")"
   ]
  },
  {
   "cell_type": "code",
   "execution_count": 13,
   "id": "8c4da180-747f-404b-9f40-c0b174362370",
   "metadata": {},
   "outputs": [
    {
     "name": "stdout",
     "output_type": "stream",
     "text": [
      "100 e maior que 50 ...\n",
      "Fim do programa ...\n"
     ]
    }
   ],
   "source": [
    "# Comando if-else\n",
    "i = 100\n",
    "if (i>50)\n",
    "    println(\"$i e maior que 50 ...\")\n",
    "else\n",
    "    println(\"$i e menor que 50 ...\")\n",
    "end\n",
    "println(\"Fim do programa ...\")"
   ]
  },
  {
   "cell_type": "code",
   "execution_count": 19,
   "id": "5307e887-3783-4abb-951b-80e9fefdad70",
   "metadata": {},
   "outputs": [
    {
     "name": "stdout",
     "output_type": "stream",
     "text": [
      "Valor maior que 100 ...\n",
      "Fim do programa ...\n"
     ]
    }
   ],
   "source": [
    "# Comando if-elseif-else\n",
    "i = 200\n",
    "if (i >= 0) && (i <= 33)\n",
    "    println(\"Valor entre 0 e 33 ...\")\n",
    "elseif (i > 33) && (i <= 66)\n",
    "    println(\"Valor entre 34 e 66 ...\")\n",
    "elseif (i > 66) && (i <= 100)\n",
    "    println(\"Valor entre 67 e 100 ...\")\n",
    "else\n",
    "    println(\"Valor maior que 100 ...\")\n",
    "end\n",
    "println(\"Fim do programa ...\")"
   ]
  }
 ],
 "metadata": {
  "kernelspec": {
   "display_name": "Julia 1.11.4",
   "language": "julia",
   "name": "julia-1.11"
  },
  "language_info": {
   "file_extension": ".jl",
   "mimetype": "application/julia",
   "name": "julia",
   "version": "1.11.4"
  }
 },
 "nbformat": 4,
 "nbformat_minor": 5
}
