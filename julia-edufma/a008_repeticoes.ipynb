{
 "cells": [
  {
   "cell_type": "code",
   "execution_count": 14,
   "id": "77df8cf3-47c3-4ad3-a496-05a56aa23dda",
   "metadata": {},
   "outputs": [
    {
     "name": "stdout",
     "output_type": "stream",
     "text": [
      "1\n",
      "2\n",
      "3\n",
      "4\n",
      "5\n",
      "6\n",
      "7\n",
      "8\n",
      "9\n",
      "10\n",
      "Fim da instrucao for ...\n"
     ]
    }
   ],
   "source": [
    "# Lacos\n",
    "# Comando for\n",
    "for i in 1:10\n",
    "    println(i)\n",
    "end\n",
    "println(\"Fim da instrucao for ...\")"
   ]
  },
  {
   "cell_type": "code",
   "execution_count": 15,
   "id": "f2d13010-8a1d-44fd-b446-daac4f968bd1",
   "metadata": {},
   "outputs": [
    {
     "name": "stdout",
     "output_type": "stream",
     "text": [
      "1\n",
      "2\n",
      "3\n",
      "4\n",
      "5\n",
      "6\n",
      "7\n",
      "8\n",
      "9\n",
      "10\n",
      "Fim da instrucao while ...\n"
     ]
    }
   ],
   "source": [
    "# Comando while\n",
    "count = 1\n",
    "while (count <= 10)\n",
    "    println(count)\n",
    "    count = count + 1\n",
    "end\n",
    "println(\"Fim da instrucao while ...\")"
   ]
  }
 ],
 "metadata": {
  "kernelspec": {
   "display_name": "Julia 1.11.4",
   "language": "julia",
   "name": "julia-1.11"
  },
  "language_info": {
   "file_extension": ".jl",
   "mimetype": "application/julia",
   "name": "julia",
   "version": "1.11.4"
  }
 },
 "nbformat": 4,
 "nbformat_minor": 5
}
