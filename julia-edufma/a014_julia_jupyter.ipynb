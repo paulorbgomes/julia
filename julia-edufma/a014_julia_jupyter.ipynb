{
 "cells": [
  {
   "cell_type": "code",
   "execution_count": 4,
   "id": "e9c3dd23-a316-4331-9c6d-a91cad60e20f",
   "metadata": {},
   "outputs": [
    {
     "name": "stdout",
     "output_type": "stream",
     "text": [
      "Olá, mundo ...\n",
      "Olá, Paulo R. B. Gomes ... Curso de Julia\n"
     ]
    }
   ],
   "source": [
    "# Julia e Jupyter\n",
    "println(\"Olá, mundo ...\")\n",
    "nome = \"Paulo R. B. Gomes\"\n",
    "println(\"Olá, $nome ... Curso de Julia\")"
   ]
  },
  {
   "cell_type": "code",
   "execution_count": 9,
   "id": "76dda00e-f340-49d3-8087-5ba9fa45ac30",
   "metadata": {},
   "outputs": [
    {
     "data": {
      "text/plain": [
       "0.052335956242943835"
      ]
     },
     "execution_count": 9,
     "metadata": {},
     "output_type": "execute_result"
    }
   ],
   "source": [
    "# Funcoes matematicas em Julia\n",
    "log(3)    # logaritmo na base natural\n",
    "log10(3)  # logaritmo na base 10\n",
    "sin(pi/6) # funcao em radianos\n",
    "sind(3)   # funcao em graus"
   ]
  },
  {
   "cell_type": "code",
   "execution_count": 15,
   "id": "a8e74981-0a2a-4a98-ade3-0e975765aa08",
   "metadata": {},
   "outputs": [
    {
     "data": {
      "text/plain": [
       "3×2 adjoint(::Matrix{Int64}) with eltype Int64:\n",
       "  3  78\n",
       "  4   9\n",
       " 56   2"
      ]
     },
     "execution_count": 15,
     "metadata": {},
     "output_type": "execute_result"
    }
   ],
   "source": [
    "# Matrizes e vetores\n",
    "# Criacao de vetores\n",
    "v = [1 2 3]\n",
    "v = [1; 2; 3]\n",
    "\n",
    "# Criacao de matrizes\n",
    "m = [3 4 56; 78 9 2]\n",
    "\n",
    "# Operacoes com vetores e matrizes\n",
    "m * v\n",
    "m'"
   ]
  },
  {
   "cell_type": "code",
   "execution_count": 16,
   "id": "85244899-cf33-4d16-a9c3-3a2a00af4e2e",
   "metadata": {},
   "outputs": [
    {
     "name": "stdout",
     "output_type": "stream",
     "text": [
      "100\n"
     ]
    }
   ],
   "source": [
    "# Funcoes em Julia\n",
    "function duple_fn(x)\n",
    "    return 2*x\n",
    "end\n",
    "\n",
    "println(duple_fn(50))"
   ]
  },
  {
   "cell_type": "code",
   "execution_count": 18,
   "id": "c5bb91d8-ac65-4bf3-af6c-37ad1f7511b1",
   "metadata": {},
   "outputs": [
    {
     "name": "stdout",
     "output_type": "stream",
     "text": [
      "1\n",
      "2\n",
      "3\n",
      "4\n",
      "5\n",
      "6\n",
      "7\n",
      "8\n",
      "9\n",
      "10\n",
      "1\n",
      "2\n",
      "3\n",
      "4\n",
      "5\n",
      "6\n",
      "7\n",
      "8\n",
      "9\n",
      "10\n"
     ]
    }
   ],
   "source": [
    "# Lacos em Julia\n",
    "for i in 1:10\n",
    "    println(i)\n",
    "end\n",
    "\n",
    "count = 1\n",
    "while count <= 10\n",
    "    println(count)\n",
    "    count = count + 1\n",
    "end"
   ]
  },
  {
   "cell_type": "code",
   "execution_count": 24,
   "id": "664d8f8b-6856-44be-a00a-52931b0f4f0c",
   "metadata": {},
   "outputs": [
    {
     "name": "stdout",
     "output_type": "stream",
     "text": [
      "Valor maior que 20 ...\n"
     ]
    }
   ],
   "source": [
    "# Condicional em Julia\n",
    "valor = 150\n",
    "if valor >= 0 && valor <= 10\n",
    "    println(\"Valor entre 0 e 10 ...\")\n",
    "elseif valor > 10 && valor <= 20\n",
    "    println(\"Valor entre 11 e 20 ...\")\n",
    "else\n",
    "    println(\"Valor maior que 20 ...\")\n",
    "end"
   ]
  }
 ],
 "metadata": {
  "kernelspec": {
   "display_name": "Julia 1.11.4",
   "language": "julia",
   "name": "julia-1.11"
  },
  "language_info": {
   "file_extension": ".jl",
   "mimetype": "application/julia",
   "name": "julia",
   "version": "1.11.4"
  }
 },
 "nbformat": 4,
 "nbformat_minor": 5
}
