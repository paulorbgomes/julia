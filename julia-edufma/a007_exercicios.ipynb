{
 "cells": [
  {
   "cell_type": "code",
   "execution_count": 7,
   "id": "1fbad764-5681-4560-aed5-05730574a6ab",
   "metadata": {},
   "outputs": [
    {
     "name": "stdout",
     "output_type": "stream",
     "text": [
      "Idade do eleitor: \n"
     ]
    },
    {
     "name": "stdin",
     "output_type": "stream",
     "text": [
      "stdin>  75\n"
     ]
    },
    {
     "name": "stdout",
     "output_type": "stream",
     "text": [
      "Voce pode votar ...\n",
      "Porem, seu voto e facultativo!\n"
     ]
    }
   ],
   "source": [
    "# 1.\n",
    "println(\"Idade do eleitor: \")\n",
    "idade = parse(Int, readline())\n",
    "\n",
    "if (idade >= 16)\n",
    "    println(\"Voce pode votar ...\")\n",
    "    if (idade < 18 || idade > 70)\n",
    "        println(\"Porem, seu voto e facultativo!\")\n",
    "    else\n",
    "        println(\"Voto obrigatorio!\")\n",
    "    end\n",
    "else\n",
    "    println(\"Voce nao pode votar ...\")\n",
    "end"
   ]
  },
  {
   "cell_type": "code",
   "execution_count": 17,
   "id": "6fb81b13-8046-41f7-aa09-1218abf7568b",
   "metadata": {},
   "outputs": [
    {
     "name": "stdout",
     "output_type": "stream",
     "text": [
      "Primeiro valor: \n"
     ]
    },
    {
     "name": "stdin",
     "output_type": "stream",
     "text": [
      "stdin>  100\n"
     ]
    },
    {
     "name": "stdout",
     "output_type": "stream",
     "text": [
      "Segundo valor: \n"
     ]
    },
    {
     "name": "stdin",
     "output_type": "stream",
     "text": [
      "stdin>  100\n"
     ]
    },
    {
     "name": "stdout",
     "output_type": "stream",
     "text": [
      "Esse valor ja foi armazenado. Digite um valor diferente: \n"
     ]
    },
    {
     "name": "stdin",
     "output_type": "stream",
     "text": [
      "stdin>  78\n"
     ]
    },
    {
     "name": "stdout",
     "output_type": "stream",
     "text": [
      "Terceiro valor: \n"
     ]
    },
    {
     "name": "stdin",
     "output_type": "stream",
     "text": [
      "stdin>  78\n"
     ]
    },
    {
     "name": "stdout",
     "output_type": "stream",
     "text": [
      "Esse valor ja foi armazenado. Digite um valor diferente: \n"
     ]
    },
    {
     "name": "stdin",
     "output_type": "stream",
     "text": [
      "stdin>  99\n"
     ]
    },
    {
     "name": "stdout",
     "output_type": "stream",
     "text": [
      "100\n"
     ]
    }
   ],
   "source": [
    "# 2.\n",
    "valores = []\n",
    "println(\"Primeiro valor: \")\n",
    "n1 = parse(Int, readline())\n",
    "maior = n1\n",
    "push!(valores, n1)\n",
    "\n",
    "println(\"Segundo valor: \")\n",
    "n2 = parse(Int, readline())\n",
    "if n2 in valores\n",
    "    println(\"Esse valor ja foi armazenado. Digite um valor diferente: \")\n",
    "    n2 = parse(Int, readline())\n",
    "    if (n2 > n1)\n",
    "        maior = n2\n",
    "    end\n",
    "end\n",
    "push!(valores, n2)\n",
    "\n",
    "println(\"Terceiro valor: \")\n",
    "n3 = parse(Int, readline())\n",
    "if n3 in valores\n",
    "    println(\"Esse valor ja foi armazenado. Digite um valor diferente: \")\n",
    "    n3 = parse(Int, readline())\n",
    "    if (n3 > n2 && n3 > n1)\n",
    "        maior = n3\n",
    "    end\n",
    "end\n",
    "push!(valores, n3)\n",
    "println(maior)"
   ]
  },
  {
   "cell_type": "code",
   "execution_count": 2,
   "id": "9a82df7b-bcd2-437d-9ec1-f4e414ff50a2",
   "metadata": {},
   "outputs": [
    {
     "name": "stdout",
     "output_type": "stream",
     "text": [
      "Digite um numero inteiro: \n"
     ]
    },
    {
     "name": "stdin",
     "output_type": "stream",
     "text": [
      "stdin>  20\n"
     ]
    },
    {
     "name": "stdout",
     "output_type": "stream",
     "text": [
      "O numero 20 e par!\n"
     ]
    }
   ],
   "source": [
    "# 3.\n",
    "println(\"Digite um numero inteiro: \")\n",
    "num = parse(Int, readline())\n",
    "if (num % 2 == 0)\n",
    "    println(\"O numero $num e par!\")\n",
    "else\n",
    "    println(\"O numero $num e impar!\")\n",
    "end"
   ]
  },
  {
   "cell_type": "code",
   "execution_count": 6,
   "id": "9b5e0e9a-70ae-495c-8660-307582396960",
   "metadata": {},
   "outputs": [
    {
     "name": "stdout",
     "output_type": "stream",
     "text": [
      "Digite o valor de A: \n"
     ]
    },
    {
     "name": "stdin",
     "output_type": "stream",
     "text": [
      "stdin>  100\n"
     ]
    },
    {
     "name": "stdout",
     "output_type": "stream",
     "text": [
      "Digite o valor de B: \n"
     ]
    },
    {
     "name": "stdin",
     "output_type": "stream",
     "text": [
      "stdin>  200\n"
     ]
    },
    {
     "name": "stdout",
     "output_type": "stream",
     "text": [
      "Digite o valor de C: \n"
     ]
    },
    {
     "name": "stdin",
     "output_type": "stream",
     "text": [
      "stdin>  900\n"
     ]
    },
    {
     "name": "stdout",
     "output_type": "stream",
     "text": [
      "300.0\n"
     ]
    }
   ],
   "source": [
    "# 4.\n",
    "println(\"Digite o valor de A: \")\n",
    "a = parse(Float64, readline())\n",
    "println(\"Digite o valor de B: \")\n",
    "b = parse(Float64, readline())\n",
    "println(\"Digite o valor de C: \")\n",
    "c = parse(Float64, readline())\n",
    "\n",
    "if (a + b < c)\n",
    "    println(a + b)\n",
    "end"
   ]
  },
  {
   "cell_type": "code",
   "execution_count": 8,
   "id": "f55bd43d-c041-4d97-a581-120507b95f37",
   "metadata": {},
   "outputs": [
    {
     "name": "stdout",
     "output_type": "stream",
     "text": [
      "Digite um numero: \n"
     ]
    },
    {
     "name": "stdin",
     "output_type": "stream",
     "text": [
      "stdin>  -20\n"
     ]
    },
    {
     "name": "stdout",
     "output_type": "stream",
     "text": [
      "O triplo de -20.0 e -60.0\n"
     ]
    }
   ],
   "source": [
    "# 5.\n",
    "println(\"Digite um numero: \")\n",
    "num = parse(Float64, readline())\n",
    "\n",
    "if (num > 0)\n",
    "    dobro = 2 * num\n",
    "    println(\"O dobro de $num e $dobro\")\n",
    "elseif (num < 0)\n",
    "    triplo = 3 * num\n",
    "    println(\"O triplo de $num e $triplo\")\n",
    "end"
   ]
  },
  {
   "cell_type": "code",
   "execution_count": 1,
   "id": "44a17188-926c-4790-b429-1b053fd84813",
   "metadata": {},
   "outputs": [
    {
     "name": "stdout",
     "output_type": "stream",
     "text": [
      "Digite um numero: \n"
     ]
    },
    {
     "name": "stdin",
     "output_type": "stream",
     "text": [
      "stdin>  100\n"
     ]
    },
    {
     "name": "stdout",
     "output_type": "stream",
     "text": [
      "O numero 100.0 e positivo ...\n"
     ]
    }
   ],
   "source": [
    "# 6.\n",
    "println(\"Digite um numero: \")\n",
    "num = parse(Float64, readline())\n",
    "\n",
    "if (num > 0)\n",
    "    println(\"O numero $num e positivo ...\")\n",
    "elseif(num < 0)\n",
    "    println(\"O numero $num e negativo ...\")\n",
    "else\n",
    "    println(\"O numero $num e igual a zero ...\")\n",
    "end"
   ]
  },
  {
   "cell_type": "code",
   "execution_count": 13,
   "id": "c4bfed42-cad6-4962-97eb-7c42dc3a7dd8",
   "metadata": {},
   "outputs": [
    {
     "name": "stdout",
     "output_type": "stream",
     "text": [
      "Digite o 1 º valor: \n"
     ]
    },
    {
     "name": "stdin",
     "output_type": "stream",
     "text": [
      "stdin>  10\n"
     ]
    },
    {
     "name": "stdout",
     "output_type": "stream",
     "text": [
      "Digite o 2 º valor: \n"
     ]
    },
    {
     "name": "stdin",
     "output_type": "stream",
     "text": [
      "stdin>  20\n"
     ]
    },
    {
     "name": "stdout",
     "output_type": "stream",
     "text": [
      "Digite o 3 º valor: \n"
     ]
    },
    {
     "name": "stdin",
     "output_type": "stream",
     "text": [
      "stdin>  30\n"
     ]
    },
    {
     "name": "stdout",
     "output_type": "stream",
     "text": [
      "Digite o 4 º valor: \n"
     ]
    },
    {
     "name": "stdin",
     "output_type": "stream",
     "text": [
      "stdin>  100\n"
     ]
    },
    {
     "name": "stdout",
     "output_type": "stream",
     "text": [
      "Any[10.0, 20.0, 30.0, 100.0]\n",
      "Any[100.0, 30.0, 20.0, 10.0]\n"
     ]
    }
   ],
   "source": [
    "# 7.\n",
    "v = []\n",
    "for i in 1:4\n",
    "    println(\"Digite o $i º valor: \")\n",
    "    append!(v, parse(Float64, readline()))\n",
    "end\n",
    "println(v)\n",
    "v = sort(v, rev=true)\n",
    "println(v)"
   ]
  },
  {
   "cell_type": "code",
   "execution_count": 15,
   "id": "7f4f5c34-0736-4214-904e-63894ddc4c05",
   "metadata": {},
   "outputs": [
    {
     "name": "stdout",
     "output_type": "stream",
     "text": [
      "Variavel solicitada [numero inteiro]: \n"
     ]
    },
    {
     "name": "stdin",
     "output_type": "stream",
     "text": [
      "stdin>  11\n"
     ]
    },
    {
     "name": "stdout",
     "output_type": "stream",
     "text": [
      "17\n"
     ]
    }
   ],
   "source": [
    "# 8.\n",
    "println(\"Variavel solicitada [numero inteiro]: \")\n",
    "v = parse(Int, readline())\n",
    "if v % 2 == 0\n",
    "    println(v + 3)\n",
    "else\n",
    "    println(v + 6)\n",
    "end"
   ]
  },
  {
   "cell_type": "code",
   "execution_count": 20,
   "id": "c1a03062-cecf-4075-8c32-462a674428fa",
   "metadata": {},
   "outputs": [
    {
     "name": "stdout",
     "output_type": "stream",
     "text": [
      "1 º valor: \n"
     ]
    },
    {
     "name": "stdin",
     "output_type": "stream",
     "text": [
      "stdin>  4\n"
     ]
    },
    {
     "name": "stdout",
     "output_type": "stream",
     "text": [
      "2 º valor: \n"
     ]
    },
    {
     "name": "stdin",
     "output_type": "stream",
     "text": [
      "stdin>  12\n"
     ]
    },
    {
     "name": "stdout",
     "output_type": "stream",
     "text": [
      "3 º valor: \n"
     ]
    },
    {
     "name": "stdin",
     "output_type": "stream",
     "text": [
      "stdin>  8\n"
     ]
    },
    {
     "name": "stdout",
     "output_type": "stream",
     "text": [
      "4 º valor: \n"
     ]
    },
    {
     "name": "stdin",
     "output_type": "stream",
     "text": [
      "stdin>  34\n"
     ]
    },
    {
     "name": "stdout",
     "output_type": "stream",
     "text": [
      "5 º valor: \n"
     ]
    },
    {
     "name": "stdin",
     "output_type": "stream",
     "text": [
      "stdin>  70\n"
     ]
    },
    {
     "name": "stdout",
     "output_type": "stream",
     "text": [
      "Any[4.0, 8.0, 12.0, 34.0, 70.0]\n",
      "58.0\n"
     ]
    }
   ],
   "source": [
    "# 9.\n",
    "v = []\n",
    "for i in 1:5\n",
    "    println(\"$i º valor: \")\n",
    "    append!(v, parse(Float64, readline()))\n",
    "end\n",
    "vSort = sort(v, rev=false)\n",
    "println(vSort)\n",
    "println(sum(vSort[1:4]))"
   ]
  },
  {
   "cell_type": "code",
   "execution_count": 23,
   "id": "036232b1-552b-4f9c-9a22-56ad411759ce",
   "metadata": {},
   "outputs": [
    {
     "name": "stdout",
     "output_type": "stream",
     "text": [
      "Digite o 1 º valor: \n"
     ]
    },
    {
     "name": "stdin",
     "output_type": "stream",
     "text": [
      "stdin>  100\n"
     ]
    },
    {
     "name": "stdout",
     "output_type": "stream",
     "text": [
      "Digite o 2 º valor: \n"
     ]
    },
    {
     "name": "stdin",
     "output_type": "stream",
     "text": [
      "stdin>  12\n"
     ]
    },
    {
     "name": "stdout",
     "output_type": "stream",
     "text": [
      "Digite o 3 º valor: \n"
     ]
    },
    {
     "name": "stdin",
     "output_type": "stream",
     "text": [
      "stdin>  50\n"
     ]
    },
    {
     "name": "stdout",
     "output_type": "stream",
     "text": [
      "Any[100.0, 12.0, 50.0]\n",
      "100.0\n"
     ]
    }
   ],
   "source": [
    "# 10.\n",
    "v = []\n",
    "for i in 1:3\n",
    "    println(\"Digite o $i º valor: \")\n",
    "    append!(v, parse(Float64, readline()))\n",
    "end\n",
    "println(v)\n",
    "vSort = sort(v, rev=false)\n",
    "println(vSort[end])"
   ]
  }
 ],
 "metadata": {
  "kernelspec": {
   "display_name": "Julia 1.11.4",
   "language": "julia",
   "name": "julia-1.11"
  },
  "language_info": {
   "file_extension": ".jl",
   "mimetype": "application/julia",
   "name": "julia",
   "version": "1.11.4"
  }
 },
 "nbformat": 4,
 "nbformat_minor": 5
}
