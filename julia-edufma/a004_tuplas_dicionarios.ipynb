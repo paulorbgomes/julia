{
 "cells": [
  {
   "cell_type": "code",
   "execution_count": 9,
   "id": "eaff122c-6a34-406a-9290-8f208b2845f0",
   "metadata": {},
   "outputs": [
    {
     "name": "stdout",
     "output_type": "stream",
     "text": [
      "Tuple{}\n",
      "(1, 2, 3, 4, 5)\n",
      "5\n",
      "1\n",
      "5\n",
      "(1, 2, 3, 4.0, \"Julia\")\n"
     ]
    }
   ],
   "source": [
    "# Tuplas\n",
    "tupla1 = ()   # tupla vazia\n",
    "println(typeof(tupla1))\n",
    "\n",
    "tupla2 = (1, 2, 3, 4, 5)   # tupla com valores homegeneos\n",
    "println(tupla2)\n",
    "println(length(tupla2))\n",
    "println(tupla2[1])\n",
    "println(tupla2[end])\n",
    "\n",
    "tupla3 = (1, 2, 3, 4.0, \"Julia\")   # tupla com valores heterogeneos\n",
    "println(tupla3)"
   ]
  },
  {
   "cell_type": "code",
   "execution_count": 18,
   "id": "710998df-1ce3-4fe2-a746-c4c34bac0c72",
   "metadata": {},
   "outputs": [
    {
     "name": "stdout",
     "output_type": "stream",
     "text": [
      "Dict{Any, Any}\n",
      "4\n",
      "0\n"
     ]
    },
    {
     "data": {
      "text/plain": [
       "true"
      ]
     },
     "execution_count": 18,
     "metadata": {},
     "output_type": "execute_result"
    }
   ],
   "source": [
    "# Dicionarios\n",
    "x = Dict()\n",
    "println(typeof(x))\n",
    "x[3] = 4\n",
    "println(x[3])\n",
    "\n",
    "y = Dict(1=>0, 2=>1, 3=>4);\n",
    "println(y[1])\n",
    "haskey(y,2)   # checa se o dict possui a chave 2!"
   ]
  }
 ],
 "metadata": {
  "kernelspec": {
   "display_name": "Julia 1.11.4",
   "language": "julia",
   "name": "julia-1.11"
  },
  "language_info": {
   "file_extension": ".jl",
   "mimetype": "application/julia",
   "name": "julia",
   "version": "1.11.4"
  }
 },
 "nbformat": 4,
 "nbformat_minor": 5
}
