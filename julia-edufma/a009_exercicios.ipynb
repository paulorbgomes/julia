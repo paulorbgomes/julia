{
 "cells": [
  {
   "cell_type": "code",
   "execution_count": 2,
   "id": "430679a5-f847-45cd-991c-e70924bf2cf4",
   "metadata": {},
   "outputs": [
    {
     "name": "stdout",
     "output_type": "stream",
     "text": [
      "Quantidade de anos: 230 anos\n"
     ]
    }
   ],
   "source": [
    "# 1.\n",
    "paisX = 10000000\n",
    "taxaX = 6 / 100\n",
    "paisY = 212000000\n",
    "taxaY = 4.6 / 100\n",
    "\n",
    "anos = 0\n",
    "while paisX <= paisY\n",
    "    paisX = paisX + taxaX * paisX\n",
    "    paisY = paisY + taxaY * paisY\n",
    "    anos = anos + 1\n",
    "end\n",
    "println(\"Quantidade de anos: $anos anos\")"
   ]
  },
  {
   "cell_type": "code",
   "execution_count": 5,
   "id": "5b09613e-424a-4ca1-af58-a8c8f0b10872",
   "metadata": {},
   "outputs": [
    {
     "name": "stdout",
     "output_type": "stream",
     "text": [
      "Digite a nota [entre 0 e 10]: \n"
     ]
    },
    {
     "name": "stdin",
     "output_type": "stream",
     "text": [
      "stdin>  90\n"
     ]
    },
    {
     "name": "stdout",
     "output_type": "stream",
     "text": [
      "Valor invalido!\n",
      "Digite a nota [entre 0 e 10]: \n"
     ]
    },
    {
     "name": "stdin",
     "output_type": "stream",
     "text": [
      "stdin>  89\n"
     ]
    },
    {
     "name": "stdout",
     "output_type": "stream",
     "text": [
      "Valor invalido!\n",
      "Digite a nota [entre 0 e 10]: \n"
     ]
    },
    {
     "name": "stdin",
     "output_type": "stream",
     "text": [
      "stdin>  8\n"
     ]
    }
   ],
   "source": [
    "# 2.\n",
    "while true\n",
    "    println(\"Digite a nota [entre 0 e 10]: \")\n",
    "    nota = parse(Int, readline())\n",
    "    if nota < 0 || nota > 10\n",
    "        println(\"Valor invalido!\")\n",
    "    else\n",
    "        break\n",
    "    end\n",
    "end"
   ]
  },
  {
   "cell_type": "code",
   "execution_count": 14,
   "id": "a3902bc6-b340-47c5-97bf-3fa640286b75",
   "metadata": {},
   "outputs": [
    {
     "name": "stdout",
     "output_type": "stream",
     "text": [
      "Digite um numero inteiro: \n"
     ]
    },
    {
     "name": "stdin",
     "output_type": "stream",
     "text": [
      "stdin>  99\n"
     ]
    },
    {
     "name": "stdout",
     "output_type": "stream",
     "text": [
      "99 e palindromo!\n"
     ]
    }
   ],
   "source": [
    "# 3.\n",
    "# 4.\n",
    "println(\"Digite um numero inteiro: \")\n",
    "n = readline()\n",
    "inv = length(n)\n",
    "count = 0\n",
    "\n",
    "for i in 1:length(n)\n",
    "    if n[i] == n[inv]\n",
    "        count = count + 1\n",
    "    end\n",
    "    inv = inv - 1\n",
    "end\n",
    "\n",
    "if count == length(n)\n",
    "    println(\"$n e palindromo!\")\n",
    "else\n",
    "    println(\"$n nao e palindromo!\")\n",
    "end"
   ]
  },
  {
   "cell_type": "code",
   "execution_count": 21,
   "id": "fc4a78d1-03d0-4bb9-bd98-92e74f7b5e74",
   "metadata": {},
   "outputs": [
    {
     "name": "stdout",
     "output_type": "stream",
     "text": [
      "Escolha um numero de 1 a 10: \n"
     ]
    },
    {
     "name": "stdin",
     "output_type": "stream",
     "text": [
      "stdin>  4\n"
     ]
    },
    {
     "name": "stdout",
     "output_type": "stream",
     "text": [
      "Escolha a tabuada desejada: + - * /\n"
     ]
    },
    {
     "name": "stdin",
     "output_type": "stream",
     "text": [
      "stdin>  oo\n"
     ]
    },
    {
     "name": "stdout",
     "output_type": "stream",
     "text": [
      "Opcao invalida!\n"
     ]
    }
   ],
   "source": [
    "# 5.\n",
    "println(\"Escolha um numero de 1 a 10: \")\n",
    "n = parse(Int, readline())\n",
    "println(\"Escolha a tabuada desejada: + - * /\")\n",
    "t = readline()\n",
    "if t == \"+\"\n",
    "    println(\"Tabuada de +\")\n",
    "    for i in 1:10\n",
    "        soma = n + i\n",
    "        println(\"$n + $i = $soma\")\n",
    "    end\n",
    "elseif t == \"-\"\n",
    "    println(\"Tabuada de -\")\n",
    "    for i in 1:10\n",
    "        sub = n - i\n",
    "        println(\"$n - $i = $sub\")\n",
    "    end\n",
    "elseif t == \"*\"\n",
    "    println(\"Tabuada de *\")\n",
    "    for i in 1:10\n",
    "        mul = n * i\n",
    "        println(\"$n * $i = $mul\")\n",
    "    end\n",
    "elseif t == \"/\"\n",
    "    println(\"Tabuada de /\")\n",
    "    for i in 1:10\n",
    "        div = n / i\n",
    "        println(\"$n / $i = $div\")\n",
    "    end\n",
    "else\n",
    "    println(\"Opcao invalida!\")\n",
    "end"
   ]
  },
  {
   "cell_type": "code",
   "execution_count": 24,
   "id": "933662aa-b9ad-4a43-8649-41e3202ee03a",
   "metadata": {},
   "outputs": [
    {
     "name": "stdout",
     "output_type": "stream",
     "text": [
      "O valor: \n"
     ]
    },
    {
     "name": "stdin",
     "output_type": "stream",
     "text": [
      "stdin>  3\n"
     ]
    },
    {
     "name": "stdout",
     "output_type": "stream",
     "text": [
      "Sera multiplicado por: \n"
     ]
    },
    {
     "name": "stdin",
     "output_type": "stream",
     "text": [
      "stdin>  9\n"
     ]
    },
    {
     "name": "stdout",
     "output_type": "stream",
     "text": [
      "3 * 9 = 27\n"
     ]
    }
   ],
   "source": [
    "# 6.\n",
    "println(\"O valor: \")\n",
    "v = parse(Int, readline())\n",
    "println(\"Sera multiplicado por: \")\n",
    "m = parse(Int, readline())\n",
    "\n",
    "resposta = 0\n",
    "for i in 1:m\n",
    "    resposta = resposta + v\n",
    "end\n",
    "println(\"$v * $m = $resposta\")"
   ]
  },
  {
   "cell_type": "code",
   "execution_count": 25,
   "id": "b7a90ded-ef15-41a4-a9ff-4b1545ebb7d8",
   "metadata": {},
   "outputs": [
    {
     "name": "stdout",
     "output_type": "stream",
     "text": [
      "Resposta: 191898783962510625\n"
     ]
    }
   ],
   "source": [
    "# 7.\n",
    "resposta = 1\n",
    "for i in 1:31\n",
    "    if i % 2 != 0\n",
    "        resposta = resposta * i\n",
    "    end\n",
    "end\n",
    "println(\"Resposta: $resposta\")"
   ]
  },
  {
   "cell_type": "code",
   "execution_count": 27,
   "id": "579d0828-5bf7-4746-9fff-5483b52034f4",
   "metadata": {},
   "outputs": [
    {
     "name": "stdout",
     "output_type": "stream",
     "text": [
      "Quantidade de anos: 11 anos\n"
     ]
    }
   ],
   "source": [
    "# 8.\n",
    "altF = 140\n",
    "altP = 130\n",
    "anos = 0\n",
    "while altP <= altF\n",
    "    altF = altF + 2\n",
    "    altP = altP + 3\n",
    "    anos = anos + 1\n",
    "end\n",
    "println(\"Quantidade de anos: $anos anos\")"
   ]
  },
  {
   "cell_type": "code",
   "execution_count": null,
   "id": "58f8e57e-d114-4679-82df-f9dd8c5865ae",
   "metadata": {},
   "outputs": [],
   "source": [
    "# 9.\n",
    "# 10"
   ]
  }
 ],
 "metadata": {
  "kernelspec": {
   "display_name": "Julia 1.11.4",
   "language": "julia",
   "name": "julia-1.11"
  },
  "language_info": {
   "file_extension": ".jl",
   "mimetype": "application/julia",
   "name": "julia",
   "version": "1.11.4"
  }
 },
 "nbformat": 4,
 "nbformat_minor": 5
}
