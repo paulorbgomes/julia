{
 "cells": [
  {
   "cell_type": "code",
   "execution_count": 12,
   "id": "810c8788-cb02-44ce-b974-9c860a238b7e",
   "metadata": {},
   "outputs": [
    {
     "name": "stdout",
     "output_type": "stream",
     "text": [
      "47\n"
     ]
    }
   ],
   "source": [
    "# Funcoes\n",
    "function adc_fn(x, y)\n",
    "    return x + y\n",
    "end\n",
    "\n",
    "z = adc_fn(26, 21)\n",
    "println(z)"
   ]
  },
  {
   "cell_type": "code",
   "execution_count": 13,
   "id": "e9e86cef-e634-485a-81be-96b528583ce2",
   "metadata": {},
   "outputs": [
    {
     "name": "stdout",
     "output_type": "stream",
     "text": [
      "Funcao sem argumento ...\n"
     ]
    }
   ],
   "source": [
    "# Funcao sem argumento\n",
    "function f1_fn()\n",
    "    println(\"Funcao sem argumento ...\")\n",
    "end\n",
    "\n",
    "f1_fn()"
   ]
  },
  {
   "cell_type": "code",
   "execution_count": 14,
   "id": "0ab9f994-b8ef-467b-b27b-9b0fa4418774",
   "metadata": {},
   "outputs": [
    {
     "name": "stdout",
     "output_type": "stream",
     "text": [
      "200\n"
     ]
    }
   ],
   "source": [
    "# Funcao com argumento\n",
    "function f2_fn(a, b)\n",
    "    return a * b\n",
    "end\n",
    "\n",
    "saida_fn = f2_fn(10, 20)\n",
    "println(saida_fn)"
   ]
  },
  {
   "cell_type": "code",
   "execution_count": 15,
   "id": "daa56d5a-97c8-41db-8f47-463e488864ac",
   "metadata": {},
   "outputs": [
    {
     "name": "stdout",
     "output_type": "stream",
     "text": [
      "4\n",
      "[1, 4, 9, 16, 25]\n"
     ]
    }
   ],
   "source": [
    "# Funcao vetorizada\n",
    "function quad_fn(x)\n",
    "    return x ^ 2\n",
    "end\n",
    "\n",
    "x = 2\n",
    "println(quad_fn(x))\n",
    "X = [1, 2, 3, 4, 5]\n",
    "println(quad_fn.(X))"
   ]
  }
 ],
 "metadata": {
  "kernelspec": {
   "display_name": "Julia 1.11.4",
   "language": "julia",
   "name": "julia-1.11"
  },
  "language_info": {
   "file_extension": ".jl",
   "mimetype": "application/julia",
   "name": "julia",
   "version": "1.11.4"
  }
 },
 "nbformat": 4,
 "nbformat_minor": 5
}
