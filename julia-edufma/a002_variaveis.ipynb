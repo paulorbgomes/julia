{
 "cells": [
  {
   "cell_type": "code",
   "execution_count": 1,
   "id": "ffedfbeb-bb09-41ba-a927-4167e483c128",
   "metadata": {},
   "outputs": [
    {
     "name": "stdout",
     "output_type": "stream",
     "text": [
      "10\n",
      "11\n",
      "Linguagem Julia\n"
     ]
    }
   ],
   "source": [
    "# Variaveis\n",
    "x = 10\n",
    "println(x)\n",
    "x = x + 1\n",
    "println(x)\n",
    "x = \"Linguagem Julia\"\n",
    "println(x)"
   ]
  },
  {
   "cell_type": "code",
   "execution_count": 2,
   "id": "c2d75724-c410-468f-ab4e-cda1c324720f",
   "metadata": {},
   "outputs": [
    {
     "name": "stdout",
     "output_type": "stream",
     "text": [
      "Bool\n",
      "Bool\n"
     ]
    }
   ],
   "source": [
    "# Valores e tipos\n",
    "println(typeof(true))\n",
    "println(typeof(false))"
   ]
  },
  {
   "cell_type": "code",
   "execution_count": 3,
   "id": "65fea621-d4c3-4802-93db-7e91e46b96f9",
   "metadata": {},
   "outputs": [
    {
     "name": "stdout",
     "output_type": "stream",
     "text": [
      "true\n",
      "false\n"
     ]
    }
   ],
   "source": [
    "# Tabela verdade (NOT)\n",
    "println(!false)\n",
    "println(!true)"
   ]
  },
  {
   "cell_type": "code",
   "execution_count": 4,
   "id": "eab2861e-ab7b-4f90-b264-14d3fcd25de7",
   "metadata": {},
   "outputs": [
    {
     "name": "stdout",
     "output_type": "stream",
     "text": [
      "false\n",
      "true\n",
      "true\n",
      "true\n"
     ]
    }
   ],
   "source": [
    "# Tabela verdade (OR)\n",
    "println(false || false)\n",
    "println(false || true)\n",
    "println(true || false)\n",
    "println(true || true)"
   ]
  },
  {
   "cell_type": "code",
   "execution_count": 5,
   "id": "983485a8-be9a-4d5d-8096-40cb7a82ebae",
   "metadata": {},
   "outputs": [
    {
     "name": "stdout",
     "output_type": "stream",
     "text": [
      "false\n",
      "false\n",
      "false\n",
      "true\n"
     ]
    }
   ],
   "source": [
    "# Tabela verdade (AND)\n",
    "println(false && false)\n",
    "println(false && true)\n",
    "println(true && false)\n",
    "println(true && true)"
   ]
  },
  {
   "cell_type": "code",
   "execution_count": 43,
   "id": "c9151996-9f7d-4209-9d66-83d536a016dd",
   "metadata": {},
   "outputs": [
    {
     "name": "stdout",
     "output_type": "stream",
     "text": [
      "64\n",
      "Int64\n",
      "Float64\n"
     ]
    }
   ],
   "source": [
    "# Verificacao se a maquina e 32 ou 64 bits\n",
    "println(Sys.WORD_SIZE)\n",
    "println(typeof(16))\n",
    "println(typeof(16.0))"
   ]
  },
  {
   "cell_type": "code",
   "execution_count": 6,
   "id": "70a8b10b-8557-41fe-8b9b-d4e85c99e554",
   "metadata": {},
   "outputs": [
    {
     "name": "stdout",
     "output_type": "stream",
     "text": [
      "String\n",
      "Planeta Terra\n",
      "String\n"
     ]
    }
   ],
   "source": [
    "# Strings\n",
    "x = \"eletrica\"\n",
    "println(typeof(x))\n",
    "y = \"Planeta Terra\"\n",
    "println(y)\n",
    "println(typeof(y))"
   ]
  },
  {
   "cell_type": "code",
   "execution_count": 69,
   "id": "f90e65ff-c69b-440f-ada0-edf55b001d56",
   "metadata": {},
   "outputs": [
    {
     "name": "stdout",
     "output_type": "stream",
     "text": [
      "Ola, seja bem-vindo, Paulo R. B. Gomes ...\n",
      "Paulo R. B. Gomes comecou a estudar Julia no ano de 2025 ...\n"
     ]
    }
   ],
   "source": [
    "# Saida formatada\n",
    "nome = \"Paulo R. B. Gomes\"\n",
    "println(\"Ola, seja bem-vindo, $nome ...\")\n",
    "ano = 2025\n",
    "println(\"$nome comecou a estudar Julia no ano de $ano ...\")"
   ]
  },
  {
   "cell_type": "code",
   "execution_count": 7,
   "id": "fcae3f37-b3a3-4dd8-866e-ad55d39877ad",
   "metadata": {},
   "outputs": [
    {
     "name": "stdout",
     "output_type": "stream",
     "text": [
      "A independencia do Brasil aconteceu em 1822 ...\n"
     ]
    }
   ],
   "source": [
    "# Concatenando strings\n",
    "s1 = \"A independencia do Brasil \"\n",
    "s2 = \"aconteceu em \"\n",
    "ano = 1822\n",
    "\n",
    "println(\"$s1$s2$ano ...\")"
   ]
  }
 ],
 "metadata": {
  "kernelspec": {
   "display_name": "Julia 1.11.4",
   "language": "julia",
   "name": "julia-1.11"
  },
  "language_info": {
   "file_extension": ".jl",
   "mimetype": "application/julia",
   "name": "julia",
   "version": "1.11.4"
  }
 },
 "nbformat": 4,
 "nbformat_minor": 5
}
