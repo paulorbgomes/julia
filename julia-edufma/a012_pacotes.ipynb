{
 "cells": [
  {
   "cell_type": "code",
   "execution_count": 1,
   "id": "3894eb0c-a8b7-458f-8245-9162e652cc5d",
   "metadata": {},
   "outputs": [
    {
     "name": "stdout",
     "output_type": "stream",
     "text": [
      "(3.0 + 0.0im, 2.0 - 0.0im)\n",
      "(0.5 + 0.0im, 0.5 - 0.0im)\n",
      "(3.0 + 1.0im, 3.0 - 1.0im)\n"
     ]
    }
   ],
   "source": [
    "function bhaskara_fn(a,b,c)\n",
    "    # Calculo do delta\n",
    "    delta = b^2 - (4*a*c)\n",
    "    # Formula de Bhaskara\n",
    "    x1 = (-b + sqrt(delta+0im))/(2*a)\n",
    "    x2 = (-b - sqrt(delta+0im))/(2*a)\n",
    "    return(x1,x2)\n",
    "end\n",
    "\n",
    "println(bhaskara_fn(1,-5,6))\n",
    "println(bhaskara_fn(4,-4,1))\n",
    "println(bhaskara_fn(1,-6,10))"
   ]
  },
  {
   "cell_type": "code",
   "execution_count": 3,
   "id": "64fcfd38-d008-4823-b858-e817c9cd90c2",
   "metadata": {},
   "outputs": [
    {
     "name": "stderr",
     "output_type": "stream",
     "text": [
      "\u001b[32m\u001b[1m   Resolving\u001b[22m\u001b[39m package versions...\n",
      "\u001b[32m\u001b[1m  No Changes\u001b[22m\u001b[39m to `C:\\Users\\paulo\\.julia\\environments\\v1.11\\Project.toml`\n",
      "\u001b[32m\u001b[1m  No Changes\u001b[22m\u001b[39m to `C:\\Users\\paulo\\.julia\\environments\\v1.11\\Manifest.toml`\n"
     ]
    },
    {
     "name": "stdout",
     "output_type": "stream",
     "text": [
      "[1.9999999999999998, 3.0000000000000004]\n",
      "[0.5, 0.5]\n",
      "ComplexF64[3.0 - 1.0000000000000007im, 3.0 + 1.0000000000000007im]\n"
     ]
    }
   ],
   "source": [
    "# Carregamento de pacotes\n",
    "using Pkg   # gerenciador de pacotes do Julia\n",
    "Pkg.add(\"Polynomials\")\n",
    "using Polynomials\n",
    "\n",
    "println(roots(Polynomial([6,-5,1])))\n",
    "println(roots(Polynomial([1,-4,4])))\n",
    "println(roots(Polynomial([10,-6,1])))"
   ]
  },
  {
   "cell_type": "code",
   "execution_count": 6,
   "id": "f1cde716-714a-4bf3-beed-7a7e72361db0",
   "metadata": {},
   "outputs": [
    {
     "name": "stderr",
     "output_type": "stream",
     "text": [
      "\u001b[32m\u001b[1m   Resolving\u001b[22m\u001b[39m package versions...\n",
      "\u001b[32m\u001b[1m  No Changes\u001b[22m\u001b[39m to `C:\\Users\\paulo\\.julia\\environments\\v1.11\\Project.toml`\n",
      "\u001b[32m\u001b[1m  No Changes\u001b[22m\u001b[39m to `C:\\Users\\paulo\\.julia\\environments\\v1.11\\Manifest.toml`\n"
     ]
    },
    {
     "name": "stdout",
     "output_type": "stream",
     "text": [
      "[0.9999266751110554, -0.9999450063332915]\n"
     ]
    }
   ],
   "source": [
    "using Pkg\n",
    "Pkg.add(\"IterativeSolvers\")\n",
    "using IterativeSolvers\n",
    "\n",
    "A = [2 1; 3 4]\n",
    "b = [1; -1]\n",
    "println(gauss_seidel(A,b))"
   ]
  },
  {
   "cell_type": "code",
   "execution_count": 7,
   "id": "1433301f-dc3e-4866-ba22-5c636248c9cd",
   "metadata": {},
   "outputs": [
    {
     "name": "stderr",
     "output_type": "stream",
     "text": [
      "\u001b[32m\u001b[1m    Updating\u001b[22m\u001b[39m `C:\\Users\\paulo\\.julia\\environments\\v1.11\\Project.toml`\n",
      "  \u001b[90m[42fd0dbc] \u001b[39m\u001b[91m- IterativeSolvers v0.9.4\u001b[39m\n",
      "\u001b[32m\u001b[1m    Updating\u001b[22m\u001b[39m `C:\\Users\\paulo\\.julia\\environments\\v1.11\\Manifest.toml`\n",
      "  \u001b[90m[42fd0dbc] \u001b[39m\u001b[91m- IterativeSolvers v0.9.4\u001b[39m\n",
      "\u001b[32m\u001b[1m    Updating\u001b[22m\u001b[39m `C:\\Users\\paulo\\.julia\\environments\\v1.11\\Project.toml`\n",
      "  \u001b[90m[f27b6e38] \u001b[39m\u001b[91m- Polynomials v4.0.19\u001b[39m\n",
      "\u001b[32m\u001b[1m    Updating\u001b[22m\u001b[39m `C:\\Users\\paulo\\.julia\\environments\\v1.11\\Manifest.toml`\n",
      "  \u001b[90m[187b0558] \u001b[39m\u001b[91m- ConstructionBase v1.5.8\u001b[39m\n",
      "  \u001b[90m[1914dd2f] \u001b[39m\u001b[91m- MacroTools v0.5.15\u001b[39m\n",
      "  \u001b[90m[bac558e1] \u001b[39m\u001b[91m- OrderedCollections v1.8.0\u001b[39m\n",
      "  \u001b[90m[f27b6e38] \u001b[39m\u001b[91m- Polynomials v4.0.19\u001b[39m\n",
      "  \u001b[90m[3cdcf5f2] \u001b[39m\u001b[91m- RecipesBase v1.3.4\u001b[39m\n",
      "  \u001b[90m[ae029012] \u001b[39m\u001b[91m- Requires v1.3.1\u001b[39m\n",
      "  \u001b[90m[efcf1570] \u001b[39m\u001b[91m- Setfield v1.1.2\u001b[39m\n",
      "  \u001b[90m[1e83bf80] \u001b[39m\u001b[91m- StaticArraysCore v1.4.3\u001b[39m\n",
      "  \u001b[90m[9fa8497b] \u001b[39m\u001b[91m- Future v1.11.0\u001b[39m\n",
      "  \u001b[90m[37e2e46d] \u001b[39m\u001b[91m- LinearAlgebra v1.11.0\u001b[39m\n",
      "  \u001b[90m[2f01184e] \u001b[39m\u001b[91m- SparseArrays v1.11.0\u001b[39m\n",
      "  \u001b[90m[e66e0078] \u001b[39m\u001b[91m- CompilerSupportLibraries_jll v1.1.1+0\u001b[39m\n",
      "  \u001b[90m[4536629a] \u001b[39m\u001b[91m- OpenBLAS_jll v0.3.27+1\u001b[39m\n",
      "  \u001b[90m[bea87d4a] \u001b[39m\u001b[91m- SuiteSparse_jll v7.7.0+0\u001b[39m\n",
      "  \u001b[90m[8e850b90] \u001b[39m\u001b[91m- libblastrampoline_jll v5.11.0+0\u001b[39m\n"
     ]
    }
   ],
   "source": [
    "# Remocao de pacotes\n",
    "Pkg.rm(\"IterativeSolvers\")\n",
    "Pkg.rm(\"Polynomials\")"
   ]
  }
 ],
 "metadata": {
  "kernelspec": {
   "display_name": "Julia 1.11.4",
   "language": "julia",
   "name": "julia-1.11"
  },
  "language_info": {
   "file_extension": ".jl",
   "mimetype": "application/julia",
   "name": "julia",
   "version": "1.11.4"
  }
 },
 "nbformat": 4,
 "nbformat_minor": 5
}
