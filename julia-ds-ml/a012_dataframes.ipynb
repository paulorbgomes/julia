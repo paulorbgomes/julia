{
 "cells": [
  {
   "cell_type": "markdown",
   "id": "7e5353ab-4734-400f-9f29-16da49c81922",
   "metadata": {},
   "source": [
    "### Started DataFrames"
   ]
  },
  {
   "cell_type": "code",
   "execution_count": 2,
   "id": "79c1c884-2843-4c52-8519-73be585d2950",
   "metadata": {},
   "outputs": [
    {
     "name": "stderr",
     "output_type": "stream",
     "text": [
      "\u001b[33m\u001b[1m┌ \u001b[22m\u001b[39m\u001b[33m\u001b[1mWarning: \u001b[22m\u001b[39mPkg.installed() is deprecated\n",
      "\u001b[33m\u001b[1m└ \u001b[22m\u001b[39m\u001b[90m@ Pkg C:\\Users\\paulo\\AppData\\Local\\Programs\\Julia-1.11.4\\share\\julia\\stdlib\\v1.11\\Pkg\\src\\Pkg.jl:787\u001b[39m\n"
     ]
    },
    {
     "data": {
      "text/plain": [
       "Dict{String, VersionNumber} with 12 entries:\n",
       "  \"CSV\"               => v\"0.10.15\"\n",
       "  \"Statistics\"        => v\"1.11.1\"\n",
       "  \"MLJ\"               => v\"0.20.7\"\n",
       "  \"Random\"            => v\"1.11.0\"\n",
       "  \"LinearAlgebra\"     => v\"1.11.0\"\n",
       "  \"MultivariateStats\" => v\"0.10.3\"\n",
       "  \"IJulia\"            => v\"1.26.0\"\n",
       "  \"Plots\"             => v\"1.40.11\"\n",
       "  \"RDatasets\"         => v\"0.7.7\"\n",
       "  \"Clustering\"        => v\"0.15.8\"\n",
       "  \"DataFrames\"        => v\"1.7.0\"\n",
       "  \"GLM\"               => v\"1.9.0\""
      ]
     },
     "execution_count": 2,
     "metadata": {},
     "output_type": "execute_result"
    }
   ],
   "source": [
    "using Pkg\n",
    "Pkg.installed()\n",
    "#Pkg.add(\"DataFrames\")"
   ]
  },
  {
   "cell_type": "code",
   "execution_count": 3,
   "id": "9756f55d-1841-4916-8834-3b3a52e3f1fb",
   "metadata": {},
   "outputs": [],
   "source": [
    "using DataFrames"
   ]
  },
  {
   "cell_type": "code",
   "execution_count": 9,
   "id": "e2479e8c-6f4d-4caf-8900-358f6a825611",
   "metadata": {},
   "outputs": [
    {
     "data": {
      "text/html": [
       "<div><div style = \"float: left;\"><span>4×2 DataFrame</span></div><div style = \"clear: both;\"></div></div><div class = \"data-frame\" style = \"overflow-x: scroll;\"><table class = \"data-frame\" style = \"margin-bottom: 6px;\"><thead><tr class = \"header\"><th class = \"rowNumber\" style = \"font-weight: bold; text-align: right;\">Row</th><th style = \"text-align: left;\">A</th><th style = \"text-align: left;\">B</th></tr><tr class = \"subheader headerLastRow\"><th class = \"rowNumber\" style = \"font-weight: bold; text-align: right;\"></th><th title = \"Int64\" style = \"text-align: left;\">Int64</th><th title = \"Float64\" style = \"text-align: left;\">Float64</th></tr></thead><tbody><tr><td class = \"rowNumber\" style = \"font-weight: bold; text-align: right;\">1</td><td style = \"text-align: right;\">1</td><td style = \"text-align: right;\">0.9406</td></tr><tr><td class = \"rowNumber\" style = \"font-weight: bold; text-align: right;\">2</td><td style = \"text-align: right;\">2</td><td style = \"text-align: right;\">0.0943858</td></tr><tr><td class = \"rowNumber\" style = \"font-weight: bold; text-align: right;\">3</td><td style = \"text-align: right;\">3</td><td style = \"text-align: right;\">0.531874</td></tr><tr><td class = \"rowNumber\" style = \"font-weight: bold; text-align: right;\">4</td><td style = \"text-align: right;\">4</td><td style = \"text-align: right;\">0.419527</td></tr></tbody></table></div>"
      ],
      "text/latex": [
       "\\begin{tabular}{r|cc}\n",
       "\t& A & B\\\\\n",
       "\t\\hline\n",
       "\t& Int64 & Float64\\\\\n",
       "\t\\hline\n",
       "\t1 & 1 & 0.9406 \\\\\n",
       "\t2 & 2 & 0.0943858 \\\\\n",
       "\t3 & 3 & 0.531874 \\\\\n",
       "\t4 & 4 & 0.419527 \\\\\n",
       "\\end{tabular}\n"
      ],
      "text/plain": [
       "\u001b[1m4×2 DataFrame\u001b[0m\n",
       "\u001b[1m Row \u001b[0m│\u001b[1m A     \u001b[0m\u001b[1m B         \u001b[0m\n",
       "     │\u001b[90m Int64 \u001b[0m\u001b[90m Float64   \u001b[0m\n",
       "─────┼──────────────────\n",
       "   1 │     1  0.9406\n",
       "   2 │     2  0.0943858\n",
       "   3 │     3  0.531874\n",
       "   4 │     4  0.419527"
      ]
     },
     "execution_count": 9,
     "metadata": {},
     "output_type": "execute_result"
    }
   ],
   "source": [
    "DataFrame()\n",
    "DataFrame(A = 1:4, B = rand(4))"
   ]
  },
  {
   "cell_type": "code",
   "execution_count": 10,
   "id": "4c463046-cad6-4e02-960c-150e7fc5c4e3",
   "metadata": {},
   "outputs": [
    {
     "data": {
      "text/plain": [
       "10×3 Matrix{Float64}:\n",
       " 0.0869154  0.514042   0.349224\n",
       " 0.134079   0.286804   0.0273273\n",
       " 0.667195   0.235752   0.859391\n",
       " 0.818773   0.742886   0.589963\n",
       " 0.200678   0.0566943  0.345375\n",
       " 0.872902   0.997618   0.742254\n",
       " 0.424343   0.897329   0.67028\n",
       " 0.422392   0.583593   0.971045\n",
       " 0.977787   0.581281   0.788591\n",
       " 0.445868   0.301259   0.293439"
      ]
     },
     "execution_count": 10,
     "metadata": {},
     "output_type": "execute_result"
    }
   ],
   "source": [
    "X1 = DataFrame(rand(10,3), :auto)\n",
    "Matrix(X1)"
   ]
  },
  {
   "cell_type": "code",
   "execution_count": 11,
   "id": "ea778f2a-c82d-497e-a9fc-a9d4aa43d80e",
   "metadata": {},
   "outputs": [
    {
     "name": "stderr",
     "output_type": "stream",
     "text": [
      "\u001b[32m\u001b[1m   Resolving\u001b[22m\u001b[39m package versions...\n",
      "\u001b[32m\u001b[1m    Updating\u001b[22m\u001b[39m `C:\\Users\\paulo\\.julia\\environments\\v1.11\\Project.toml`\n",
      "  \u001b[90m[bd369af6] \u001b[39m\u001b[92m+ Tables v1.12.0\u001b[39m\n",
      "\u001b[32m\u001b[1m  No Changes\u001b[22m\u001b[39m to `C:\\Users\\paulo\\.julia\\environments\\v1.11\\Manifest.toml`\n"
     ]
    }
   ],
   "source": [
    "using Pkg\n",
    "Pkg.add(\"Tables\")"
   ]
  },
  {
   "cell_type": "code",
   "execution_count": 12,
   "id": "eee8450e-0861-4b88-ae10-504925d8acc5",
   "metadata": {},
   "outputs": [
    {
     "data": {
      "text/plain": [
       "(x1 = [0.08691536502039021, 0.1340788281612112, 0.6671949541368052, 0.8187725696712459, 0.20067767695784255, 0.8729022081186459, 0.4243429026665534, 0.42239200911724384, 0.9777874804762027, 0.4458677018646583], x2 = [0.5140422934969429, 0.28680421980892046, 0.235752300835549, 0.7428861973876286, 0.05669426556866208, 0.9976182884487169, 0.897328907013742, 0.5835933497363465, 0.5812805722991988, 0.30125943407629474], x3 = [0.3492238298180489, 0.02732726396766194, 0.85939120355714, 0.5899634863674548, 0.34537479313432573, 0.7422538142666747, 0.670279584261294, 0.9710450770341974, 0.788591249060641, 0.29343872680554506])"
      ]
     },
     "execution_count": 12,
     "metadata": {},
     "output_type": "execute_result"
    }
   ],
   "source": [
    "tb = Tables.columntable(X1)"
   ]
  },
  {
   "cell_type": "code",
   "execution_count": 13,
   "id": "9dedc7c6-474b-4687-bcab-3b1fb6c2dff0",
   "metadata": {},
   "outputs": [
    {
     "data": {
      "text/plain": [
       "@NamedTuple{x1::Vector{Float64}, x2::Vector{Float64}, x3::Vector{Float64}}"
      ]
     },
     "execution_count": 13,
     "metadata": {},
     "output_type": "execute_result"
    }
   ],
   "source": [
    "typeof(tb)"
   ]
  },
  {
   "cell_type": "code",
   "execution_count": 14,
   "id": "16750bd2-cf41-4706-aa49-45d1cbc26242",
   "metadata": {},
   "outputs": [
    {
     "data": {
      "text/plain": [
       "10-element Vector{Float64}:\n",
       " 0.08691536502039021\n",
       " 0.1340788281612112\n",
       " 0.6671949541368052\n",
       " 0.8187725696712459\n",
       " 0.20067767695784255\n",
       " 0.8729022081186459\n",
       " 0.4243429026665534\n",
       " 0.42239200911724384\n",
       " 0.9777874804762027\n",
       " 0.4458677018646583"
      ]
     },
     "execution_count": 14,
     "metadata": {},
     "output_type": "execute_result"
    }
   ],
   "source": [
    "tb.x1"
   ]
  },
  {
   "cell_type": "code",
   "execution_count": 15,
   "id": "3cbff9f2-cfb1-4552-a317-7be9d25092cd",
   "metadata": {},
   "outputs": [
    {
     "data": {
      "text/plain": [
       "10-element Vector{Float64}:\n",
       " 0.5140422934969429\n",
       " 0.28680421980892046\n",
       " 0.235752300835549\n",
       " 0.7428861973876286\n",
       " 0.05669426556866208\n",
       " 0.9976182884487169\n",
       " 0.897328907013742\n",
       " 0.5835933497363465\n",
       " 0.5812805722991988\n",
       " 0.30125943407629474"
      ]
     },
     "execution_count": 15,
     "metadata": {},
     "output_type": "execute_result"
    }
   ],
   "source": [
    "tb.x2"
   ]
  },
  {
   "cell_type": "code",
   "execution_count": 16,
   "id": "e6d668d8-7565-4417-b05e-a469333b37ac",
   "metadata": {},
   "outputs": [
    {
     "data": {
      "text/plain": [
       "10-element Vector{Float64}:\n",
       " 0.3492238298180489\n",
       " 0.02732726396766194\n",
       " 0.85939120355714\n",
       " 0.5899634863674548\n",
       " 0.34537479313432573\n",
       " 0.7422538142666747\n",
       " 0.670279584261294\n",
       " 0.9710450770341974\n",
       " 0.788591249060641\n",
       " 0.29343872680554506"
      ]
     },
     "execution_count": 16,
     "metadata": {},
     "output_type": "execute_result"
    }
   ],
   "source": [
    "tb.x3"
   ]
  },
  {
   "cell_type": "markdown",
   "id": "f0bdaf0e-3903-48fc-b1b6-326072966a28",
   "metadata": {},
   "source": [
    "### More About DataFrames"
   ]
  },
  {
   "cell_type": "code",
   "execution_count": 18,
   "id": "4b4b64cc-5d4e-4b63-af99-360b3b083b57",
   "metadata": {},
   "outputs": [
    {
     "data": {
      "text/plain": [
       "DataFrame"
      ]
     },
     "execution_count": 18,
     "metadata": {},
     "output_type": "execute_result"
    }
   ],
   "source": [
    "typeof(X1)"
   ]
  },
  {
   "cell_type": "code",
   "execution_count": 25,
   "id": "ef15b8ef-4b8c-4b1e-931b-ad10f2f4f96e",
   "metadata": {},
   "outputs": [
    {
     "data": {
      "text/html": [
       "<div><div style = \"float: left;\"><span>3×7 DataFrame</span></div><div style = \"clear: both;\"></div></div><div class = \"data-frame\" style = \"overflow-x: scroll;\"><table class = \"data-frame\" style = \"margin-bottom: 6px;\"><thead><tr class = \"header\"><th class = \"rowNumber\" style = \"font-weight: bold; text-align: right;\">Row</th><th style = \"text-align: left;\">variable</th><th style = \"text-align: left;\">mean</th><th style = \"text-align: left;\">min</th><th style = \"text-align: left;\">median</th><th style = \"text-align: left;\">max</th><th style = \"text-align: left;\">nmissing</th><th style = \"text-align: left;\">eltype</th></tr><tr class = \"subheader headerLastRow\"><th class = \"rowNumber\" style = \"font-weight: bold; text-align: right;\"></th><th title = \"Symbol\" style = \"text-align: left;\">Symbol</th><th title = \"Float64\" style = \"text-align: left;\">Float64</th><th title = \"Float64\" style = \"text-align: left;\">Float64</th><th title = \"Float64\" style = \"text-align: left;\">Float64</th><th title = \"Float64\" style = \"text-align: left;\">Float64</th><th title = \"Int64\" style = \"text-align: left;\">Int64</th><th title = \"DataType\" style = \"text-align: left;\">DataType</th></tr></thead><tbody><tr><td class = \"rowNumber\" style = \"font-weight: bold; text-align: right;\">1</td><td style = \"text-align: left;\">x1</td><td style = \"text-align: right;\">0.505093</td><td style = \"text-align: right;\">0.0869154</td><td style = \"text-align: right;\">0.435105</td><td style = \"text-align: right;\">0.977787</td><td style = \"text-align: right;\">0</td><td style = \"text-align: left;\">Float64</td></tr><tr><td class = \"rowNumber\" style = \"font-weight: bold; text-align: right;\">2</td><td style = \"text-align: left;\">x2</td><td style = \"text-align: right;\">0.519726</td><td style = \"text-align: right;\">0.0566943</td><td style = \"text-align: right;\">0.547661</td><td style = \"text-align: right;\">0.997618</td><td style = \"text-align: right;\">0</td><td style = \"text-align: left;\">Float64</td></tr><tr><td class = \"rowNumber\" style = \"font-weight: bold; text-align: right;\">3</td><td style = \"text-align: left;\">x3</td><td style = \"text-align: right;\">0.563689</td><td style = \"text-align: right;\">0.0273273</td><td style = \"text-align: right;\">0.630122</td><td style = \"text-align: right;\">0.971045</td><td style = \"text-align: right;\">0</td><td style = \"text-align: left;\">Float64</td></tr></tbody></table></div>"
      ],
      "text/latex": [
       "\\begin{tabular}{r|ccccccc}\n",
       "\t& variable & mean & min & median & max & nmissing & eltype\\\\\n",
       "\t\\hline\n",
       "\t& Symbol & Float64 & Float64 & Float64 & Float64 & Int64 & DataType\\\\\n",
       "\t\\hline\n",
       "\t1 & x1 & 0.505093 & 0.0869154 & 0.435105 & 0.977787 & 0 & Float64 \\\\\n",
       "\t2 & x2 & 0.519726 & 0.0566943 & 0.547661 & 0.997618 & 0 & Float64 \\\\\n",
       "\t3 & x3 & 0.563689 & 0.0273273 & 0.630122 & 0.971045 & 0 & Float64 \\\\\n",
       "\\end{tabular}\n"
      ],
      "text/plain": [
       "\u001b[1m3×7 DataFrame\u001b[0m\n",
       "\u001b[1m Row \u001b[0m│\u001b[1m variable \u001b[0m\u001b[1m mean     \u001b[0m\u001b[1m min       \u001b[0m\u001b[1m median   \u001b[0m\u001b[1m max      \u001b[0m\u001b[1m nmissing \u001b[0m\u001b[1m eltype   \u001b[0m\n",
       "     │\u001b[90m Symbol   \u001b[0m\u001b[90m Float64  \u001b[0m\u001b[90m Float64   \u001b[0m\u001b[90m Float64  \u001b[0m\u001b[90m Float64  \u001b[0m\u001b[90m Int64    \u001b[0m\u001b[90m DataType \u001b[0m\n",
       "─────┼───────────────────────────────────────────────────────────────────────\n",
       "   1 │ x1        0.505093  0.0869154  0.435105  0.977787         0  Float64\n",
       "   2 │ x2        0.519726  0.0566943  0.547661  0.997618         0  Float64\n",
       "   3 │ x3        0.563689  0.0273273  0.630122  0.971045         0  Float64"
      ]
     },
     "execution_count": 25,
     "metadata": {},
     "output_type": "execute_result"
    }
   ],
   "source": [
    "names(X1)\n",
    "size(X1)\n",
    "size(X1, 1)\n",
    "size(X1, 2)\n",
    "nrow(X1)\n",
    "ncol(X1)\n",
    "describe(X1)"
   ]
  },
  {
   "cell_type": "code",
   "execution_count": 30,
   "id": "f650ac78-0e48-4568-8991-7115c4f1c592",
   "metadata": {},
   "outputs": [
    {
     "data": {
      "text/plain": [
       "3-element Vector{Int64}:\n",
       " 0\n",
       " 0\n",
       " 0"
      ]
     },
     "execution_count": 30,
     "metadata": {},
     "output_type": "execute_result"
    }
   ],
   "source": [
    "describe(X1).mean\n",
    "describe(X1).min\n",
    "describe(X1).median\n",
    "describe(X1).max\n",
    "describe(X1).nmissing"
   ]
  },
  {
   "cell_type": "code",
   "execution_count": 34,
   "id": "cd4cfb48-a82e-44d6-afec-5549360f11de",
   "metadata": {},
   "outputs": [
    {
     "data": {
      "text/html": [
       "<div><div style = \"float: left;\"><span>5×3 DataFrame</span></div><div style = \"clear: both;\"></div></div><div class = \"data-frame\" style = \"overflow-x: scroll;\"><table class = \"data-frame\" style = \"margin-bottom: 6px;\"><thead><tr class = \"header\"><th class = \"rowNumber\" style = \"font-weight: bold; text-align: right;\">Row</th><th style = \"text-align: left;\">x1</th><th style = \"text-align: left;\">x2</th><th style = \"text-align: left;\">x3</th></tr><tr class = \"subheader headerLastRow\"><th class = \"rowNumber\" style = \"font-weight: bold; text-align: right;\"></th><th title = \"Float64\" style = \"text-align: left;\">Float64</th><th title = \"Float64\" style = \"text-align: left;\">Float64</th><th title = \"Float64\" style = \"text-align: left;\">Float64</th></tr></thead><tbody><tr><td class = \"rowNumber\" style = \"font-weight: bold; text-align: right;\">1</td><td style = \"text-align: right;\">0.872902</td><td style = \"text-align: right;\">0.997618</td><td style = \"text-align: right;\">0.742254</td></tr><tr><td class = \"rowNumber\" style = \"font-weight: bold; text-align: right;\">2</td><td style = \"text-align: right;\">0.424343</td><td style = \"text-align: right;\">0.897329</td><td style = \"text-align: right;\">0.67028</td></tr><tr><td class = \"rowNumber\" style = \"font-weight: bold; text-align: right;\">3</td><td style = \"text-align: right;\">0.422392</td><td style = \"text-align: right;\">0.583593</td><td style = \"text-align: right;\">0.971045</td></tr><tr><td class = \"rowNumber\" style = \"font-weight: bold; text-align: right;\">4</td><td style = \"text-align: right;\">0.977787</td><td style = \"text-align: right;\">0.581281</td><td style = \"text-align: right;\">0.788591</td></tr><tr><td class = \"rowNumber\" style = \"font-weight: bold; text-align: right;\">5</td><td style = \"text-align: right;\">0.445868</td><td style = \"text-align: right;\">0.301259</td><td style = \"text-align: right;\">0.293439</td></tr></tbody></table></div>"
      ],
      "text/latex": [
       "\\begin{tabular}{r|ccc}\n",
       "\t& x1 & x2 & x3\\\\\n",
       "\t\\hline\n",
       "\t& Float64 & Float64 & Float64\\\\\n",
       "\t\\hline\n",
       "\t1 & 0.872902 & 0.997618 & 0.742254 \\\\\n",
       "\t2 & 0.424343 & 0.897329 & 0.67028 \\\\\n",
       "\t3 & 0.422392 & 0.583593 & 0.971045 \\\\\n",
       "\t4 & 0.977787 & 0.581281 & 0.788591 \\\\\n",
       "\t5 & 0.445868 & 0.301259 & 0.293439 \\\\\n",
       "\\end{tabular}\n"
      ],
      "text/plain": [
       "\u001b[1m5×3 DataFrame\u001b[0m\n",
       "\u001b[1m Row \u001b[0m│\u001b[1m x1       \u001b[0m\u001b[1m x2       \u001b[0m\u001b[1m x3       \u001b[0m\n",
       "     │\u001b[90m Float64  \u001b[0m\u001b[90m Float64  \u001b[0m\u001b[90m Float64  \u001b[0m\n",
       "─────┼──────────────────────────────\n",
       "   1 │ 0.872902  0.997618  0.742254\n",
       "   2 │ 0.424343  0.897329  0.67028\n",
       "   3 │ 0.422392  0.583593  0.971045\n",
       "   4 │ 0.977787  0.581281  0.788591\n",
       "   5 │ 0.445868  0.301259  0.293439"
      ]
     },
     "execution_count": 34,
     "metadata": {},
     "output_type": "execute_result"
    }
   ],
   "source": [
    "first(X1)\n",
    "first(X1, 5)\n",
    "last(X1)\n",
    "last(X1, 5)"
   ]
  },
  {
   "cell_type": "code",
   "execution_count": 40,
   "id": "a980e1fd-6c32-46f9-8cb0-2e887b2d6180",
   "metadata": {},
   "outputs": [
    {
     "data": {
      "text/plain": [
       "10-element Vector{Float64}:\n",
       " 0.5140422934969429\n",
       " 0.28680421980892046\n",
       " 0.235752300835549\n",
       " 0.7428861973876286\n",
       " 0.05669426556866208\n",
       " 0.9976182884487169\n",
       " 0.897328907013742\n",
       " 0.5835933497363465\n",
       " 0.5812805722991988\n",
       " 0.30125943407629474"
      ]
     },
     "execution_count": 40,
     "metadata": {},
     "output_type": "execute_result"
    }
   ],
   "source": [
    "X1\n",
    "X1[1:7, 1:2]\n",
    "X1[1:7, :]\n",
    "X1[:, 2]"
   ]
  },
  {
   "cell_type": "markdown",
   "id": "f0762371-9bc2-4c81-b155-970fa95d04f5",
   "metadata": {},
   "source": [
    "### Reading and Writing DataFrames"
   ]
  },
  {
   "cell_type": "code",
   "execution_count": 41,
   "id": "4470054e-20d6-489a-b83d-d7553dead2c8",
   "metadata": {},
   "outputs": [
    {
     "data": {
      "text/html": [
       "<div><div style = \"float: left;\"><span>3×3 DataFrame</span></div><div style = \"clear: both;\"></div></div><div class = \"data-frame\" style = \"overflow-x: scroll;\"><table class = \"data-frame\" style = \"margin-bottom: 6px;\"><thead><tr class = \"header\"><th class = \"rowNumber\" style = \"font-weight: bold; text-align: right;\">Row</th><th style = \"text-align: left;\">A</th><th style = \"text-align: left;\">B</th><th style = \"text-align: left;\">C</th></tr><tr class = \"subheader headerLastRow\"><th class = \"rowNumber\" style = \"font-weight: bold; text-align: right;\"></th><th title = \"Bool\" style = \"text-align: left;\">Bool</th><th title = \"Int64\" style = \"text-align: left;\">Int64</th><th title = \"Char\" style = \"text-align: left;\">Char</th></tr></thead><tbody><tr><td class = \"rowNumber\" style = \"font-weight: bold; text-align: right;\">1</td><td style = \"text-align: right;\">true</td><td style = \"text-align: right;\">23</td><td style = \"text-align: left;\">a</td></tr><tr><td class = \"rowNumber\" style = \"font-weight: bold; text-align: right;\">2</td><td style = \"text-align: right;\">false</td><td style = \"text-align: right;\">45</td><td style = \"text-align: left;\">c</td></tr><tr><td class = \"rowNumber\" style = \"font-weight: bold; text-align: right;\">3</td><td style = \"text-align: right;\">true</td><td style = \"text-align: right;\">67</td><td style = \"text-align: left;\">b</td></tr></tbody></table></div>"
      ],
      "text/latex": [
       "\\begin{tabular}{r|ccc}\n",
       "\t& A & B & C\\\\\n",
       "\t\\hline\n",
       "\t& Bool & Int64 & Char\\\\\n",
       "\t\\hline\n",
       "\t1 & 1 & 23 & a \\\\\n",
       "\t2 & 0 & 45 & c \\\\\n",
       "\t3 & 1 & 67 & b \\\\\n",
       "\\end{tabular}\n"
      ],
      "text/plain": [
       "\u001b[1m3×3 DataFrame\u001b[0m\n",
       "\u001b[1m Row \u001b[0m│\u001b[1m A     \u001b[0m\u001b[1m B     \u001b[0m\u001b[1m C    \u001b[0m\n",
       "     │\u001b[90m Bool  \u001b[0m\u001b[90m Int64 \u001b[0m\u001b[90m Char \u001b[0m\n",
       "─────┼────────────────────\n",
       "   1 │  true     23  a\n",
       "   2 │ false     45  c\n",
       "   3 │  true     67  b"
      ]
     },
     "execution_count": 41,
     "metadata": {},
     "output_type": "execute_result"
    }
   ],
   "source": [
    "using DataFrames\n",
    "df = DataFrame(A=[true, false, true], B=[23, 45, 67], C=['a', 'c', 'b'])"
   ]
  },
  {
   "cell_type": "code",
   "execution_count": 44,
   "id": "3dfac9f5-a9c2-4047-bbb8-b9e5d99f1752",
   "metadata": {},
   "outputs": [
    {
     "data": {
      "text/html": [
       "<div><div style = \"float: left;\"><span>3×3 DataFrame</span></div><div style = \"clear: both;\"></div></div><div class = \"data-frame\" style = \"overflow-x: scroll;\"><table class = \"data-frame\" style = \"margin-bottom: 6px;\"><thead><tr class = \"header\"><th class = \"rowNumber\" style = \"font-weight: bold; text-align: right;\">Row</th><th style = \"text-align: left;\">A</th><th style = \"text-align: left;\">B</th><th style = \"text-align: left;\">C</th></tr><tr class = \"subheader headerLastRow\"><th class = \"rowNumber\" style = \"font-weight: bold; text-align: right;\"></th><th title = \"Bool\" style = \"text-align: left;\">Bool</th><th title = \"Int64\" style = \"text-align: left;\">Int64</th><th title = \"String1\" style = \"text-align: left;\">String1</th></tr></thead><tbody><tr><td class = \"rowNumber\" style = \"font-weight: bold; text-align: right;\">1</td><td style = \"text-align: right;\">true</td><td style = \"text-align: right;\">23</td><td style = \"text-align: left;\">a</td></tr><tr><td class = \"rowNumber\" style = \"font-weight: bold; text-align: right;\">2</td><td style = \"text-align: right;\">false</td><td style = \"text-align: right;\">45</td><td style = \"text-align: left;\">c</td></tr><tr><td class = \"rowNumber\" style = \"font-weight: bold; text-align: right;\">3</td><td style = \"text-align: right;\">true</td><td style = \"text-align: right;\">67</td><td style = \"text-align: left;\">b</td></tr></tbody></table></div>"
      ],
      "text/latex": [
       "\\begin{tabular}{r|ccc}\n",
       "\t& A & B & C\\\\\n",
       "\t\\hline\n",
       "\t& Bool & Int64 & String1\\\\\n",
       "\t\\hline\n",
       "\t1 & 1 & 23 & a \\\\\n",
       "\t2 & 0 & 45 & c \\\\\n",
       "\t3 & 1 & 67 & b \\\\\n",
       "\\end{tabular}\n"
      ],
      "text/plain": [
       "\u001b[1m3×3 DataFrame\u001b[0m\n",
       "\u001b[1m Row \u001b[0m│\u001b[1m A     \u001b[0m\u001b[1m B     \u001b[0m\u001b[1m C       \u001b[0m\n",
       "     │\u001b[90m Bool  \u001b[0m\u001b[90m Int64 \u001b[0m\u001b[90m String1 \u001b[0m\n",
       "─────┼───────────────────────\n",
       "   1 │  true     23  a\n",
       "   2 │ false     45  c\n",
       "   3 │  true     67  b"
      ]
     },
     "execution_count": 44,
     "metadata": {},
     "output_type": "execute_result"
    }
   ],
   "source": [
    "using CSV\n",
    "CSV.write(\"df.csv\", df)\n",
    "new_df = CSV.read(\"df.csv\", DataFrame)"
   ]
  },
  {
   "cell_type": "markdown",
   "id": "1f098009-c32d-4f91-ae01-253c7e1eeb2c",
   "metadata": {},
   "source": [
    "### Operations in DataFrames"
   ]
  },
  {
   "cell_type": "code",
   "execution_count": 46,
   "id": "5cff6eb2-502b-4053-8414-b4696f776c84",
   "metadata": {},
   "outputs": [
    {
     "data": {
      "text/html": [
       "<div><div style = \"float: left;\"><span>5×4 DataFrame</span></div><div style = \"clear: both;\"></div></div><div class = \"data-frame\" style = \"overflow-x: scroll;\"><table class = \"data-frame\" style = \"margin-bottom: 6px;\"><thead><tr class = \"header\"><th class = \"rowNumber\" style = \"font-weight: bold; text-align: right;\">Row</th><th style = \"text-align: left;\">x1</th><th style = \"text-align: left;\">x2</th><th style = \"text-align: left;\">x3</th><th style = \"text-align: left;\">x4</th></tr><tr class = \"subheader headerLastRow\"><th class = \"rowNumber\" style = \"font-weight: bold; text-align: right;\"></th><th title = \"Float64\" style = \"text-align: left;\">Float64</th><th title = \"Float64\" style = \"text-align: left;\">Float64</th><th title = \"Float64\" style = \"text-align: left;\">Float64</th><th title = \"Float64\" style = \"text-align: left;\">Float64</th></tr></thead><tbody><tr><td class = \"rowNumber\" style = \"font-weight: bold; text-align: right;\">1</td><td style = \"text-align: right;\">0.248423</td><td style = \"text-align: right;\">0.370266</td><td style = \"text-align: right;\">0.137229</td><td style = \"text-align: right;\">0.8012</td></tr><tr><td class = \"rowNumber\" style = \"font-weight: bold; text-align: right;\">2</td><td style = \"text-align: right;\">0.69518</td><td style = \"text-align: right;\">0.0666985</td><td style = \"text-align: right;\">0.283442</td><td style = \"text-align: right;\">0.858479</td></tr><tr><td class = \"rowNumber\" style = \"font-weight: bold; text-align: right;\">3</td><td style = \"text-align: right;\">0.0176431</td><td style = \"text-align: right;\">0.877263</td><td style = \"text-align: right;\">0.296266</td><td style = \"text-align: right;\">0.518864</td></tr><tr><td class = \"rowNumber\" style = \"font-weight: bold; text-align: right;\">4</td><td style = \"text-align: right;\">0.265432</td><td style = \"text-align: right;\">0.0672491</td><td style = \"text-align: right;\">0.75037</td><td style = \"text-align: right;\">0.205016</td></tr><tr><td class = \"rowNumber\" style = \"font-weight: bold; text-align: right;\">5</td><td style = \"text-align: right;\">0.0572735</td><td style = \"text-align: right;\">0.314921</td><td style = \"text-align: right;\">0.572281</td><td style = \"text-align: right;\">0.164314</td></tr></tbody></table></div>"
      ],
      "text/latex": [
       "\\begin{tabular}{r|cccc}\n",
       "\t& x1 & x2 & x3 & x4\\\\\n",
       "\t\\hline\n",
       "\t& Float64 & Float64 & Float64 & Float64\\\\\n",
       "\t\\hline\n",
       "\t1 & 0.248423 & 0.370266 & 0.137229 & 0.8012 \\\\\n",
       "\t2 & 0.69518 & 0.0666985 & 0.283442 & 0.858479 \\\\\n",
       "\t3 & 0.0176431 & 0.877263 & 0.296266 & 0.518864 \\\\\n",
       "\t4 & 0.265432 & 0.0672491 & 0.75037 & 0.205016 \\\\\n",
       "\t5 & 0.0572735 & 0.314921 & 0.572281 & 0.164314 \\\\\n",
       "\\end{tabular}\n"
      ],
      "text/plain": [
       "\u001b[1m5×4 DataFrame\u001b[0m\n",
       "\u001b[1m Row \u001b[0m│\u001b[1m x1        \u001b[0m\u001b[1m x2        \u001b[0m\u001b[1m x3       \u001b[0m\u001b[1m x4       \u001b[0m\n",
       "     │\u001b[90m Float64   \u001b[0m\u001b[90m Float64   \u001b[0m\u001b[90m Float64  \u001b[0m\u001b[90m Float64  \u001b[0m\n",
       "─────┼──────────────────────────────────────────\n",
       "   1 │ 0.248423   0.370266   0.137229  0.8012\n",
       "   2 │ 0.69518    0.0666985  0.283442  0.858479\n",
       "   3 │ 0.0176431  0.877263   0.296266  0.518864\n",
       "   4 │ 0.265432   0.0672491  0.75037   0.205016\n",
       "   5 │ 0.0572735  0.314921   0.572281  0.164314"
      ]
     },
     "execution_count": 46,
     "metadata": {},
     "output_type": "execute_result"
    }
   ],
   "source": [
    "M1 = DataFrame(rand(5,4), :auto)"
   ]
  },
  {
   "cell_type": "code",
   "execution_count": 50,
   "id": "77765cc0-f13e-47ca-89e8-35ab560d26dc",
   "metadata": {},
   "outputs": [
    {
     "data": {
      "text/html": [
       "<div><div style = \"float: left;\"><span>5×4 DataFrame</span></div><div style = \"clear: both;\"></div></div><div class = \"data-frame\" style = \"overflow-x: scroll;\"><table class = \"data-frame\" style = \"margin-bottom: 6px;\"><thead><tr class = \"header\"><th class = \"rowNumber\" style = \"font-weight: bold; text-align: right;\">Row</th><th style = \"text-align: left;\">c1</th><th style = \"text-align: left;\">c2</th><th style = \"text-align: left;\">c3</th><th style = \"text-align: left;\">c4</th></tr><tr class = \"subheader headerLastRow\"><th class = \"rowNumber\" style = \"font-weight: bold; text-align: right;\"></th><th title = \"Float64\" style = \"text-align: left;\">Float64</th><th title = \"Float64\" style = \"text-align: left;\">Float64</th><th title = \"Float64\" style = \"text-align: left;\">Float64</th><th title = \"Float64\" style = \"text-align: left;\">Float64</th></tr></thead><tbody><tr><td class = \"rowNumber\" style = \"font-weight: bold; text-align: right;\">1</td><td style = \"text-align: right;\">0.248423</td><td style = \"text-align: right;\">0.370266</td><td style = \"text-align: right;\">0.137229</td><td style = \"text-align: right;\">0.8012</td></tr><tr><td class = \"rowNumber\" style = \"font-weight: bold; text-align: right;\">2</td><td style = \"text-align: right;\">0.69518</td><td style = \"text-align: right;\">0.0666985</td><td style = \"text-align: right;\">0.283442</td><td style = \"text-align: right;\">0.858479</td></tr><tr><td class = \"rowNumber\" style = \"font-weight: bold; text-align: right;\">3</td><td style = \"text-align: right;\">0.0176431</td><td style = \"text-align: right;\">0.877263</td><td style = \"text-align: right;\">0.296266</td><td style = \"text-align: right;\">0.518864</td></tr><tr><td class = \"rowNumber\" style = \"font-weight: bold; text-align: right;\">4</td><td style = \"text-align: right;\">0.265432</td><td style = \"text-align: right;\">0.0672491</td><td style = \"text-align: right;\">0.75037</td><td style = \"text-align: right;\">0.205016</td></tr><tr><td class = \"rowNumber\" style = \"font-weight: bold; text-align: right;\">5</td><td style = \"text-align: right;\">0.0572735</td><td style = \"text-align: right;\">0.314921</td><td style = \"text-align: right;\">0.572281</td><td style = \"text-align: right;\">0.164314</td></tr></tbody></table></div>"
      ],
      "text/latex": [
       "\\begin{tabular}{r|cccc}\n",
       "\t& c1 & c2 & c3 & c4\\\\\n",
       "\t\\hline\n",
       "\t& Float64 & Float64 & Float64 & Float64\\\\\n",
       "\t\\hline\n",
       "\t1 & 0.248423 & 0.370266 & 0.137229 & 0.8012 \\\\\n",
       "\t2 & 0.69518 & 0.0666985 & 0.283442 & 0.858479 \\\\\n",
       "\t3 & 0.0176431 & 0.877263 & 0.296266 & 0.518864 \\\\\n",
       "\t4 & 0.265432 & 0.0672491 & 0.75037 & 0.205016 \\\\\n",
       "\t5 & 0.0572735 & 0.314921 & 0.572281 & 0.164314 \\\\\n",
       "\\end{tabular}\n"
      ],
      "text/plain": [
       "\u001b[1m5×4 DataFrame\u001b[0m\n",
       "\u001b[1m Row \u001b[0m│\u001b[1m c1        \u001b[0m\u001b[1m c2        \u001b[0m\u001b[1m c3       \u001b[0m\u001b[1m c4       \u001b[0m\n",
       "     │\u001b[90m Float64   \u001b[0m\u001b[90m Float64   \u001b[0m\u001b[90m Float64  \u001b[0m\u001b[90m Float64  \u001b[0m\n",
       "─────┼──────────────────────────────────────────\n",
       "   1 │ 0.248423   0.370266   0.137229  0.8012\n",
       "   2 │ 0.69518    0.0666985  0.283442  0.858479\n",
       "   3 │ 0.0176431  0.877263   0.296266  0.518864\n",
       "   4 │ 0.265432   0.0672491  0.75037   0.205016\n",
       "   5 │ 0.0572735  0.314921   0.572281  0.164314"
      ]
     },
     "execution_count": 50,
     "metadata": {},
     "output_type": "execute_result"
    }
   ],
   "source": [
    "names(M1)\n",
    "rename(M1, \"x1\" => \"c1\")\n",
    "rename(M1, [\"c1\", \"c2\", \"c3\", \"c4\"])"
   ]
  },
  {
   "cell_type": "code",
   "execution_count": 51,
   "id": "f18f0f79-6403-46b7-9567-ea934ced2e6f",
   "metadata": {},
   "outputs": [
    {
     "data": {
      "text/html": [
       "<div><div style = \"float: left;\"><span>5×4 DataFrame</span></div><div style = \"clear: both;\"></div></div><div class = \"data-frame\" style = \"overflow-x: scroll;\"><table class = \"data-frame\" style = \"margin-bottom: 6px;\"><thead><tr class = \"header\"><th class = \"rowNumber\" style = \"font-weight: bold; text-align: right;\">Row</th><th style = \"text-align: left;\">x1</th><th style = \"text-align: left;\">x2</th><th style = \"text-align: left;\">x3</th><th style = \"text-align: left;\">x4</th></tr><tr class = \"subheader headerLastRow\"><th class = \"rowNumber\" style = \"font-weight: bold; text-align: right;\"></th><th title = \"Float64\" style = \"text-align: left;\">Float64</th><th title = \"Float64\" style = \"text-align: left;\">Float64</th><th title = \"Float64\" style = \"text-align: left;\">Float64</th><th title = \"Float64\" style = \"text-align: left;\">Float64</th></tr></thead><tbody><tr><td class = \"rowNumber\" style = \"font-weight: bold; text-align: right;\">1</td><td style = \"text-align: right;\">0.923206</td><td style = \"text-align: right;\">0.258808</td><td style = \"text-align: right;\">0.295472</td><td style = \"text-align: right;\">0.16481</td></tr><tr><td class = \"rowNumber\" style = \"font-weight: bold; text-align: right;\">2</td><td style = \"text-align: right;\">0.780849</td><td style = \"text-align: right;\">0.430128</td><td style = \"text-align: right;\">0.624477</td><td style = \"text-align: right;\">0.0174733</td></tr><tr><td class = \"rowNumber\" style = \"font-weight: bold; text-align: right;\">3</td><td style = \"text-align: right;\">0.587511</td><td style = \"text-align: right;\">0.402937</td><td style = \"text-align: right;\">0.0169228</td><td style = \"text-align: right;\">0.90451</td></tr><tr><td class = \"rowNumber\" style = \"font-weight: bold; text-align: right;\">4</td><td style = \"text-align: right;\">0.121061</td><td style = \"text-align: right;\">0.472527</td><td style = \"text-align: right;\">0.193882</td><td style = \"text-align: right;\">0.158289</td></tr><tr><td class = \"rowNumber\" style = \"font-weight: bold; text-align: right;\">5</td><td style = \"text-align: right;\">0.486465</td><td style = \"text-align: right;\">0.532469</td><td style = \"text-align: right;\">0.636077</td><td style = \"text-align: right;\">0.189053</td></tr></tbody></table></div>"
      ],
      "text/latex": [
       "\\begin{tabular}{r|cccc}\n",
       "\t& x1 & x2 & x3 & x4\\\\\n",
       "\t\\hline\n",
       "\t& Float64 & Float64 & Float64 & Float64\\\\\n",
       "\t\\hline\n",
       "\t1 & 0.923206 & 0.258808 & 0.295472 & 0.16481 \\\\\n",
       "\t2 & 0.780849 & 0.430128 & 0.624477 & 0.0174733 \\\\\n",
       "\t3 & 0.587511 & 0.402937 & 0.0169228 & 0.90451 \\\\\n",
       "\t4 & 0.121061 & 0.472527 & 0.193882 & 0.158289 \\\\\n",
       "\t5 & 0.486465 & 0.532469 & 0.636077 & 0.189053 \\\\\n",
       "\\end{tabular}\n"
      ],
      "text/plain": [
       "\u001b[1m5×4 DataFrame\u001b[0m\n",
       "\u001b[1m Row \u001b[0m│\u001b[1m x1       \u001b[0m\u001b[1m x2       \u001b[0m\u001b[1m x3        \u001b[0m\u001b[1m x4        \u001b[0m\n",
       "     │\u001b[90m Float64  \u001b[0m\u001b[90m Float64  \u001b[0m\u001b[90m Float64   \u001b[0m\u001b[90m Float64   \u001b[0m\n",
       "─────┼──────────────────────────────────────────\n",
       "   1 │ 0.923206  0.258808  0.295472   0.16481\n",
       "   2 │ 0.780849  0.430128  0.624477   0.0174733\n",
       "   3 │ 0.587511  0.402937  0.0169228  0.90451\n",
       "   4 │ 0.121061  0.472527  0.193882   0.158289\n",
       "   5 │ 0.486465  0.532469  0.636077   0.189053"
      ]
     },
     "execution_count": 51,
     "metadata": {},
     "output_type": "execute_result"
    }
   ],
   "source": [
    "M2 = DataFrame(rand(5,4), :auto)"
   ]
  },
  {
   "cell_type": "code",
   "execution_count": 53,
   "id": "d26a07a4-95d9-49fc-b993-5878b2ded161",
   "metadata": {},
   "outputs": [
    {
     "data": {
      "text/html": [
       "<div><div style = \"float: left;\"><span>5×8 DataFrame</span></div><div style = \"clear: both;\"></div></div><div class = \"data-frame\" style = \"overflow-x: scroll;\"><table class = \"data-frame\" style = \"margin-bottom: 6px;\"><thead><tr class = \"header\"><th class = \"rowNumber\" style = \"font-weight: bold; text-align: right;\">Row</th><th style = \"text-align: left;\">x1</th><th style = \"text-align: left;\">x2</th><th style = \"text-align: left;\">x3</th><th style = \"text-align: left;\">x4</th><th style = \"text-align: left;\">x1_1</th><th style = \"text-align: left;\">x2_1</th><th style = \"text-align: left;\">x3_1</th><th style = \"text-align: left;\">x4_1</th></tr><tr class = \"subheader headerLastRow\"><th class = \"rowNumber\" style = \"font-weight: bold; text-align: right;\"></th><th title = \"Float64\" style = \"text-align: left;\">Float64</th><th title = \"Float64\" style = \"text-align: left;\">Float64</th><th title = \"Float64\" style = \"text-align: left;\">Float64</th><th title = \"Float64\" style = \"text-align: left;\">Float64</th><th title = \"Float64\" style = \"text-align: left;\">Float64</th><th title = \"Float64\" style = \"text-align: left;\">Float64</th><th title = \"Float64\" style = \"text-align: left;\">Float64</th><th title = \"Float64\" style = \"text-align: left;\">Float64</th></tr></thead><tbody><tr><td class = \"rowNumber\" style = \"font-weight: bold; text-align: right;\">1</td><td style = \"text-align: right;\">0.248423</td><td style = \"text-align: right;\">0.370266</td><td style = \"text-align: right;\">0.137229</td><td style = \"text-align: right;\">0.8012</td><td style = \"text-align: right;\">0.923206</td><td style = \"text-align: right;\">0.258808</td><td style = \"text-align: right;\">0.295472</td><td style = \"text-align: right;\">0.16481</td></tr><tr><td class = \"rowNumber\" style = \"font-weight: bold; text-align: right;\">2</td><td style = \"text-align: right;\">0.69518</td><td style = \"text-align: right;\">0.0666985</td><td style = \"text-align: right;\">0.283442</td><td style = \"text-align: right;\">0.858479</td><td style = \"text-align: right;\">0.780849</td><td style = \"text-align: right;\">0.430128</td><td style = \"text-align: right;\">0.624477</td><td style = \"text-align: right;\">0.0174733</td></tr><tr><td class = \"rowNumber\" style = \"font-weight: bold; text-align: right;\">3</td><td style = \"text-align: right;\">0.0176431</td><td style = \"text-align: right;\">0.877263</td><td style = \"text-align: right;\">0.296266</td><td style = \"text-align: right;\">0.518864</td><td style = \"text-align: right;\">0.587511</td><td style = \"text-align: right;\">0.402937</td><td style = \"text-align: right;\">0.0169228</td><td style = \"text-align: right;\">0.90451</td></tr><tr><td class = \"rowNumber\" style = \"font-weight: bold; text-align: right;\">4</td><td style = \"text-align: right;\">0.265432</td><td style = \"text-align: right;\">0.0672491</td><td style = \"text-align: right;\">0.75037</td><td style = \"text-align: right;\">0.205016</td><td style = \"text-align: right;\">0.121061</td><td style = \"text-align: right;\">0.472527</td><td style = \"text-align: right;\">0.193882</td><td style = \"text-align: right;\">0.158289</td></tr><tr><td class = \"rowNumber\" style = \"font-weight: bold; text-align: right;\">5</td><td style = \"text-align: right;\">0.0572735</td><td style = \"text-align: right;\">0.314921</td><td style = \"text-align: right;\">0.572281</td><td style = \"text-align: right;\">0.164314</td><td style = \"text-align: right;\">0.486465</td><td style = \"text-align: right;\">0.532469</td><td style = \"text-align: right;\">0.636077</td><td style = \"text-align: right;\">0.189053</td></tr></tbody></table></div>"
      ],
      "text/latex": [
       "\\begin{tabular}{r|cccccccc}\n",
       "\t& x1 & x2 & x3 & x4 & x1\\_1 & x2\\_1 & x3\\_1 & x4\\_1\\\\\n",
       "\t\\hline\n",
       "\t& Float64 & Float64 & Float64 & Float64 & Float64 & Float64 & Float64 & Float64\\\\\n",
       "\t\\hline\n",
       "\t1 & 0.248423 & 0.370266 & 0.137229 & 0.8012 & 0.923206 & 0.258808 & 0.295472 & 0.16481 \\\\\n",
       "\t2 & 0.69518 & 0.0666985 & 0.283442 & 0.858479 & 0.780849 & 0.430128 & 0.624477 & 0.0174733 \\\\\n",
       "\t3 & 0.0176431 & 0.877263 & 0.296266 & 0.518864 & 0.587511 & 0.402937 & 0.0169228 & 0.90451 \\\\\n",
       "\t4 & 0.265432 & 0.0672491 & 0.75037 & 0.205016 & 0.121061 & 0.472527 & 0.193882 & 0.158289 \\\\\n",
       "\t5 & 0.0572735 & 0.314921 & 0.572281 & 0.164314 & 0.486465 & 0.532469 & 0.636077 & 0.189053 \\\\\n",
       "\\end{tabular}\n"
      ],
      "text/plain": [
       "\u001b[1m5×8 DataFrame\u001b[0m\n",
       "\u001b[1m Row \u001b[0m│\u001b[1m x1        \u001b[0m\u001b[1m x2        \u001b[0m\u001b[1m x3       \u001b[0m\u001b[1m x4       \u001b[0m\u001b[1m x1_1     \u001b[0m\u001b[1m x2_1     \u001b[0m\u001b[1m x3_1     \u001b[0m ⋯\n",
       "     │\u001b[90m Float64   \u001b[0m\u001b[90m Float64   \u001b[0m\u001b[90m Float64  \u001b[0m\u001b[90m Float64  \u001b[0m\u001b[90m Float64  \u001b[0m\u001b[90m Float64  \u001b[0m\u001b[90m Float64  \u001b[0m ⋯\n",
       "─────┼──────────────────────────────────────────────────────────────────────────\n",
       "   1 │ 0.248423   0.370266   0.137229  0.8012    0.923206  0.258808  0.295472  ⋯\n",
       "   2 │ 0.69518    0.0666985  0.283442  0.858479  0.780849  0.430128  0.624477\n",
       "   3 │ 0.0176431  0.877263   0.296266  0.518864  0.587511  0.402937  0.0169228\n",
       "   4 │ 0.265432   0.0672491  0.75037   0.205016  0.121061  0.472527  0.193882\n",
       "   5 │ 0.0572735  0.314921   0.572281  0.164314  0.486465  0.532469  0.636077  ⋯\n",
       "\u001b[36m                                                                1 column omitted\u001b[0m"
      ]
     },
     "execution_count": 53,
     "metadata": {},
     "output_type": "execute_result"
    }
   ],
   "source": [
    "hcat(M1, M2, makeunique=true )"
   ]
  },
  {
   "cell_type": "code",
   "execution_count": 54,
   "id": "4fd1cabf-d10b-40fc-b39e-7deb0f7d0d00",
   "metadata": {},
   "outputs": [
    {
     "data": {
      "text/html": [
       "<div><div style = \"float: left;\"><span>10×4 DataFrame</span></div><div style = \"clear: both;\"></div></div><div class = \"data-frame\" style = \"overflow-x: scroll;\"><table class = \"data-frame\" style = \"margin-bottom: 6px;\"><thead><tr class = \"header\"><th class = \"rowNumber\" style = \"font-weight: bold; text-align: right;\">Row</th><th style = \"text-align: left;\">x1</th><th style = \"text-align: left;\">x2</th><th style = \"text-align: left;\">x3</th><th style = \"text-align: left;\">x4</th></tr><tr class = \"subheader headerLastRow\"><th class = \"rowNumber\" style = \"font-weight: bold; text-align: right;\"></th><th title = \"Float64\" style = \"text-align: left;\">Float64</th><th title = \"Float64\" style = \"text-align: left;\">Float64</th><th title = \"Float64\" style = \"text-align: left;\">Float64</th><th title = \"Float64\" style = \"text-align: left;\">Float64</th></tr></thead><tbody><tr><td class = \"rowNumber\" style = \"font-weight: bold; text-align: right;\">1</td><td style = \"text-align: right;\">0.248423</td><td style = \"text-align: right;\">0.370266</td><td style = \"text-align: right;\">0.137229</td><td style = \"text-align: right;\">0.8012</td></tr><tr><td class = \"rowNumber\" style = \"font-weight: bold; text-align: right;\">2</td><td style = \"text-align: right;\">0.69518</td><td style = \"text-align: right;\">0.0666985</td><td style = \"text-align: right;\">0.283442</td><td style = \"text-align: right;\">0.858479</td></tr><tr><td class = \"rowNumber\" style = \"font-weight: bold; text-align: right;\">3</td><td style = \"text-align: right;\">0.0176431</td><td style = \"text-align: right;\">0.877263</td><td style = \"text-align: right;\">0.296266</td><td style = \"text-align: right;\">0.518864</td></tr><tr><td class = \"rowNumber\" style = \"font-weight: bold; text-align: right;\">4</td><td style = \"text-align: right;\">0.265432</td><td style = \"text-align: right;\">0.0672491</td><td style = \"text-align: right;\">0.75037</td><td style = \"text-align: right;\">0.205016</td></tr><tr><td class = \"rowNumber\" style = \"font-weight: bold; text-align: right;\">5</td><td style = \"text-align: right;\">0.0572735</td><td style = \"text-align: right;\">0.314921</td><td style = \"text-align: right;\">0.572281</td><td style = \"text-align: right;\">0.164314</td></tr><tr><td class = \"rowNumber\" style = \"font-weight: bold; text-align: right;\">6</td><td style = \"text-align: right;\">0.923206</td><td style = \"text-align: right;\">0.258808</td><td style = \"text-align: right;\">0.295472</td><td style = \"text-align: right;\">0.16481</td></tr><tr><td class = \"rowNumber\" style = \"font-weight: bold; text-align: right;\">7</td><td style = \"text-align: right;\">0.780849</td><td style = \"text-align: right;\">0.430128</td><td style = \"text-align: right;\">0.624477</td><td style = \"text-align: right;\">0.0174733</td></tr><tr><td class = \"rowNumber\" style = \"font-weight: bold; text-align: right;\">8</td><td style = \"text-align: right;\">0.587511</td><td style = \"text-align: right;\">0.402937</td><td style = \"text-align: right;\">0.0169228</td><td style = \"text-align: right;\">0.90451</td></tr><tr><td class = \"rowNumber\" style = \"font-weight: bold; text-align: right;\">9</td><td style = \"text-align: right;\">0.121061</td><td style = \"text-align: right;\">0.472527</td><td style = \"text-align: right;\">0.193882</td><td style = \"text-align: right;\">0.158289</td></tr><tr><td class = \"rowNumber\" style = \"font-weight: bold; text-align: right;\">10</td><td style = \"text-align: right;\">0.486465</td><td style = \"text-align: right;\">0.532469</td><td style = \"text-align: right;\">0.636077</td><td style = \"text-align: right;\">0.189053</td></tr></tbody></table></div>"
      ],
      "text/latex": [
       "\\begin{tabular}{r|cccc}\n",
       "\t& x1 & x2 & x3 & x4\\\\\n",
       "\t\\hline\n",
       "\t& Float64 & Float64 & Float64 & Float64\\\\\n",
       "\t\\hline\n",
       "\t1 & 0.248423 & 0.370266 & 0.137229 & 0.8012 \\\\\n",
       "\t2 & 0.69518 & 0.0666985 & 0.283442 & 0.858479 \\\\\n",
       "\t3 & 0.0176431 & 0.877263 & 0.296266 & 0.518864 \\\\\n",
       "\t4 & 0.265432 & 0.0672491 & 0.75037 & 0.205016 \\\\\n",
       "\t5 & 0.0572735 & 0.314921 & 0.572281 & 0.164314 \\\\\n",
       "\t6 & 0.923206 & 0.258808 & 0.295472 & 0.16481 \\\\\n",
       "\t7 & 0.780849 & 0.430128 & 0.624477 & 0.0174733 \\\\\n",
       "\t8 & 0.587511 & 0.402937 & 0.0169228 & 0.90451 \\\\\n",
       "\t9 & 0.121061 & 0.472527 & 0.193882 & 0.158289 \\\\\n",
       "\t10 & 0.486465 & 0.532469 & 0.636077 & 0.189053 \\\\\n",
       "\\end{tabular}\n"
      ],
      "text/plain": [
       "\u001b[1m10×4 DataFrame\u001b[0m\n",
       "\u001b[1m Row \u001b[0m│\u001b[1m x1        \u001b[0m\u001b[1m x2        \u001b[0m\u001b[1m x3        \u001b[0m\u001b[1m x4        \u001b[0m\n",
       "     │\u001b[90m Float64   \u001b[0m\u001b[90m Float64   \u001b[0m\u001b[90m Float64   \u001b[0m\u001b[90m Float64   \u001b[0m\n",
       "─────┼────────────────────────────────────────────\n",
       "   1 │ 0.248423   0.370266   0.137229   0.8012\n",
       "   2 │ 0.69518    0.0666985  0.283442   0.858479\n",
       "   3 │ 0.0176431  0.877263   0.296266   0.518864\n",
       "   4 │ 0.265432   0.0672491  0.75037    0.205016\n",
       "   5 │ 0.0572735  0.314921   0.572281   0.164314\n",
       "   6 │ 0.923206   0.258808   0.295472   0.16481\n",
       "   7 │ 0.780849   0.430128   0.624477   0.0174733\n",
       "   8 │ 0.587511   0.402937   0.0169228  0.90451\n",
       "   9 │ 0.121061   0.472527   0.193882   0.158289\n",
       "  10 │ 0.486465   0.532469   0.636077   0.189053"
      ]
     },
     "execution_count": 54,
     "metadata": {},
     "output_type": "execute_result"
    }
   ],
   "source": [
    "vcat(M1, M2)"
   ]
  },
  {
   "cell_type": "code",
   "execution_count": 55,
   "id": "35cb895c-edd6-40f9-b75a-4c17465b8ce3",
   "metadata": {},
   "outputs": [
    {
     "data": {
      "text/html": [
       "<div><div style = \"float: left;\"><span>5×5 DataFrame</span></div><div style = \"clear: both;\"></div></div><div class = \"data-frame\" style = \"overflow-x: scroll;\"><table class = \"data-frame\" style = \"margin-bottom: 6px;\"><thead><tr class = \"header\"><th class = \"rowNumber\" style = \"font-weight: bold; text-align: right;\">Row</th><th style = \"text-align: left;\">x1</th><th style = \"text-align: left;\">x2</th><th style = \"text-align: left;\">x3</th><th style = \"text-align: left;\">x4</th><th style = \"text-align: left;\">A</th></tr><tr class = \"subheader headerLastRow\"><th class = \"rowNumber\" style = \"font-weight: bold; text-align: right;\"></th><th title = \"Float64\" style = \"text-align: left;\">Float64</th><th title = \"Float64\" style = \"text-align: left;\">Float64</th><th title = \"Float64\" style = \"text-align: left;\">Float64</th><th title = \"Float64\" style = \"text-align: left;\">Float64</th><th title = \"Int64\" style = \"text-align: left;\">Int64</th></tr></thead><tbody><tr><td class = \"rowNumber\" style = \"font-weight: bold; text-align: right;\">1</td><td style = \"text-align: right;\">0.248423</td><td style = \"text-align: right;\">0.370266</td><td style = \"text-align: right;\">0.137229</td><td style = \"text-align: right;\">0.8012</td><td style = \"text-align: right;\">1</td></tr><tr><td class = \"rowNumber\" style = \"font-weight: bold; text-align: right;\">2</td><td style = \"text-align: right;\">0.69518</td><td style = \"text-align: right;\">0.0666985</td><td style = \"text-align: right;\">0.283442</td><td style = \"text-align: right;\">0.858479</td><td style = \"text-align: right;\">2</td></tr><tr><td class = \"rowNumber\" style = \"font-weight: bold; text-align: right;\">3</td><td style = \"text-align: right;\">0.0176431</td><td style = \"text-align: right;\">0.877263</td><td style = \"text-align: right;\">0.296266</td><td style = \"text-align: right;\">0.518864</td><td style = \"text-align: right;\">3</td></tr><tr><td class = \"rowNumber\" style = \"font-weight: bold; text-align: right;\">4</td><td style = \"text-align: right;\">0.265432</td><td style = \"text-align: right;\">0.0672491</td><td style = \"text-align: right;\">0.75037</td><td style = \"text-align: right;\">0.205016</td><td style = \"text-align: right;\">4</td></tr><tr><td class = \"rowNumber\" style = \"font-weight: bold; text-align: right;\">5</td><td style = \"text-align: right;\">0.0572735</td><td style = \"text-align: right;\">0.314921</td><td style = \"text-align: right;\">0.572281</td><td style = \"text-align: right;\">0.164314</td><td style = \"text-align: right;\">5</td></tr></tbody></table></div>"
      ],
      "text/latex": [
       "\\begin{tabular}{r|ccccc}\n",
       "\t& x1 & x2 & x3 & x4 & A\\\\\n",
       "\t\\hline\n",
       "\t& Float64 & Float64 & Float64 & Float64 & Int64\\\\\n",
       "\t\\hline\n",
       "\t1 & 0.248423 & 0.370266 & 0.137229 & 0.8012 & 1 \\\\\n",
       "\t2 & 0.69518 & 0.0666985 & 0.283442 & 0.858479 & 2 \\\\\n",
       "\t3 & 0.0176431 & 0.877263 & 0.296266 & 0.518864 & 3 \\\\\n",
       "\t4 & 0.265432 & 0.0672491 & 0.75037 & 0.205016 & 4 \\\\\n",
       "\t5 & 0.0572735 & 0.314921 & 0.572281 & 0.164314 & 5 \\\\\n",
       "\\end{tabular}\n"
      ],
      "text/plain": [
       "\u001b[1m5×5 DataFrame\u001b[0m\n",
       "\u001b[1m Row \u001b[0m│\u001b[1m x1        \u001b[0m\u001b[1m x2        \u001b[0m\u001b[1m x3       \u001b[0m\u001b[1m x4       \u001b[0m\u001b[1m A     \u001b[0m\n",
       "     │\u001b[90m Float64   \u001b[0m\u001b[90m Float64   \u001b[0m\u001b[90m Float64  \u001b[0m\u001b[90m Float64  \u001b[0m\u001b[90m Int64 \u001b[0m\n",
       "─────┼─────────────────────────────────────────────────\n",
       "   1 │ 0.248423   0.370266   0.137229  0.8012        1\n",
       "   2 │ 0.69518    0.0666985  0.283442  0.858479      2\n",
       "   3 │ 0.0176431  0.877263   0.296266  0.518864      3\n",
       "   4 │ 0.265432   0.0672491  0.75037   0.205016      4\n",
       "   5 │ 0.0572735  0.314921   0.572281  0.164314      5"
      ]
     },
     "execution_count": 55,
     "metadata": {},
     "output_type": "execute_result"
    }
   ],
   "source": [
    "[M1 DataFrame(A=[1, 2, 3, 4, 5])]"
   ]
  }
 ],
 "metadata": {
  "kernelspec": {
   "display_name": "Julia 1.11.4",
   "language": "julia",
   "name": "julia-1.11"
  },
  "language_info": {
   "file_extension": ".jl",
   "mimetype": "application/julia",
   "name": "julia",
   "version": "1.11.4"
  }
 },
 "nbformat": 4,
 "nbformat_minor": 5
}
