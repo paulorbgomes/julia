{
 "cells": [
  {
   "cell_type": "markdown",
   "id": "290cbd7f-6be5-4e51-8fed-2c3835904a08",
   "metadata": {},
   "source": [
    "### Decision Making"
   ]
  },
  {
   "cell_type": "code",
   "execution_count": 5,
   "id": "9c215dba-290c-4a00-9936-e34655803b34",
   "metadata": {},
   "outputs": [
    {
     "name": "stdout",
     "output_type": "stream",
     "text": [
      "-5 is negative!\n"
     ]
    }
   ],
   "source": [
    "N = 34\n",
    "N = -5\n",
    "if (N > 0)\n",
    "    println(\"$N is positive!\")\n",
    "else\n",
    "    println(\"$N is negative!\")\n",
    "end"
   ]
  },
  {
   "cell_type": "code",
   "execution_count": 10,
   "id": "a2a5cded-057a-4246-8d62-14871fc8631c",
   "metadata": {},
   "outputs": [
    {
     "name": "stdout",
     "output_type": "stream",
     "text": [
      "-5 is negative ...\n"
     ]
    }
   ],
   "source": [
    "N = -5\n",
    "if (N > 25)\n",
    "    println(\"$N is greater than 25 ...\")\n",
    "elseif (N > 0 && N < 25)\n",
    "    println(\"$N is between 0 and 25 ...\")\n",
    "else\n",
    "    println(\"$N is negative ...\")\n",
    "end"
   ]
  },
  {
   "cell_type": "markdown",
   "id": "eca3fe8b-b426-40a3-a8c9-a97cbebaf808",
   "metadata": {},
   "source": [
    "### Looping"
   ]
  },
  {
   "cell_type": "code",
   "execution_count": 19,
   "id": "ab1ad05c-1c74-45f2-8d27-d68ec1895039",
   "metadata": {},
   "outputs": [
    {
     "name": "stdout",
     "output_type": "stream",
     "text": [
      "1\n",
      "2\n",
      "3\n",
      "4\n",
      "5\n"
     ]
    }
   ],
   "source": [
    "#for i in range(1,step=1,length=5)\n",
    "#for i in 1:1:5\n",
    "for i = 1:1:5\n",
    "    println(i)\n",
    "end"
   ]
  },
  {
   "cell_type": "code",
   "execution_count": 20,
   "id": "bee54757-f4c3-4ed8-aa23-100af4d259c3",
   "metadata": {},
   "outputs": [
    {
     "name": "stdout",
     "output_type": "stream",
     "text": [
      "13\n",
      "14\n",
      "15\n",
      "23\n",
      "24\n",
      "25\n",
      "33\n",
      "34\n",
      "35\n"
     ]
    }
   ],
   "source": [
    "for i = 1:3, j = 3:5\n",
    "    println(i, j)\n",
    "end"
   ]
  },
  {
   "cell_type": "code",
   "execution_count": 21,
   "id": "0e997990-23e1-4fd8-8baf-6d36413048d9",
   "metadata": {},
   "outputs": [
    {
     "name": "stdout",
     "output_type": "stream",
     "text": [
      "3\n",
      "5\n",
      "Hello\n"
     ]
    }
   ],
   "source": [
    "arr = [3, 5, \"Hello\"]\n",
    "for i in arr\n",
    "    println(i)\n",
    "end"
   ]
  },
  {
   "cell_type": "code",
   "execution_count": 25,
   "id": "fb0208c4-2649-41fe-a29b-d91845aa3929",
   "metadata": {},
   "outputs": [
    {
     "name": "stdout",
     "output_type": "stream",
     "text": [
      "for loop ...\n",
      "1\n",
      "2\n",
      "3\n",
      "4\n",
      "5\n",
      "6\n",
      "7\n",
      "8\n",
      "9\n",
      "10\n",
      "while loop ...\n",
      "1\n",
      "2\n",
      "3\n",
      "4\n",
      "5\n",
      "6\n",
      "7\n",
      "8\n",
      "9\n",
      "10\n"
     ]
    }
   ],
   "source": [
    "# For loop\n",
    "println(\"for loop ...\")\n",
    "for i = 1:10\n",
    "    println(i)\n",
    "end\n",
    "\n",
    "# While loop\n",
    "println(\"while loop ...\")\n",
    "i = 1\n",
    "while i <= 10\n",
    "    println(i)\n",
    "    i += 1\n",
    "end"
   ]
  }
 ],
 "metadata": {
  "kernelspec": {
   "display_name": "Julia 1.11.4",
   "language": "julia",
   "name": "julia-1.11"
  },
  "language_info": {
   "file_extension": ".jl",
   "mimetype": "application/julia",
   "name": "julia",
   "version": "1.11.4"
  }
 },
 "nbformat": 4,
 "nbformat_minor": 5
}
