{
 "cells": [
  {
   "cell_type": "markdown",
   "id": "b51201bc-1212-40e3-baee-00d00d3dff82",
   "metadata": {},
   "source": [
    "### Numbers, Variable and Comment"
   ]
  },
  {
   "cell_type": "code",
   "execution_count": 24,
   "id": "b30c194d-922a-4208-adda-2da0403164d5",
   "metadata": {},
   "outputs": [],
   "source": [
    "# Single line comment ...\n",
    "#=\n",
    "Multiple lines comment ...\n",
    "line 1 ...\n",
    "line 2 ...\n",
    "line 3 ...\n",
    "=#"
   ]
  },
  {
   "cell_type": "code",
   "execution_count": 19,
   "id": "21446693-4c60-4cb4-a022-5b27e171c804",
   "metadata": {},
   "outputs": [
    {
     "name": "stdout",
     "output_type": "stream",
     "text": [
      "Int64\n",
      "Float64\n"
     ]
    }
   ],
   "source": [
    "x = 42\n",
    "println(typeof(x))\n",
    "\n",
    "y = 42.0\n",
    "println(typeof(y))"
   ]
  },
  {
   "cell_type": "code",
   "execution_count": 20,
   "id": "ed83bfa8-f1b3-4c3e-a3b7-2b1737124bfe",
   "metadata": {},
   "outputs": [
    {
     "name": "stdout",
     "output_type": "stream",
     "text": [
      "45\n"
     ]
    }
   ],
   "source": [
    "operation = 3 + 6*7\n",
    "println(operation)"
   ]
  },
  {
   "cell_type": "code",
   "execution_count": 21,
   "id": "f22f4a85-d94e-4640-a737-460511bfa6f2",
   "metadata": {},
   "outputs": [
    {
     "name": "stdout",
     "output_type": "stream",
     "text": [
      "0.05357142857142857\n"
     ]
    }
   ],
   "source": [
    "operation = 3/56\n",
    "println(operation)"
   ]
  },
  {
   "cell_type": "code",
   "execution_count": 22,
   "id": "8601dc1a-20d5-4c19-89ce-499ffebf1442",
   "metadata": {},
   "outputs": [
    {
     "name": "stdout",
     "output_type": "stream",
     "text": [
      "34\n",
      "38\n",
      "1\n",
      "8\n"
     ]
    }
   ],
   "source": [
    "grade = 34\n",
    "println(grade)\n",
    "rank = 4\n",
    "operation = grade + rank\n",
    "println(operation)\n",
    "pi   # constant\n",
    "println(100 % 3)\n",
    "println(2 ^ 3)"
   ]
  },
  {
   "cell_type": "code",
   "execution_count": 23,
   "id": "700444fd-e82a-402c-87cb-cd040e640394",
   "metadata": {},
   "outputs": [
    {
     "name": "stdout",
     "output_type": "stream",
     "text": [
      "3 + 3im\n",
      "Complex{Int64}\n"
     ]
    }
   ],
   "source": [
    "# Complex number\n",
    "z = 3 + 3im\n",
    "println(z)\n",
    "println(typeof(z))"
   ]
  },
  {
   "cell_type": "markdown",
   "id": "685714cf-0733-4a0d-982c-f8b5abce096c",
   "metadata": {},
   "source": [
    "### Strings"
   ]
  },
  {
   "cell_type": "code",
   "execution_count": 28,
   "id": "e995175f-e4ac-4901-acfa-5b1743df20da",
   "metadata": {},
   "outputs": [
    {
     "name": "stdout",
     "output_type": "stream",
     "text": [
      "This is Julia\n",
      "String\n"
     ]
    }
   ],
   "source": [
    "# Single line string ...\n",
    "s1 = \"This is Julia\"\n",
    "println(s1)\n",
    "println(typeof(s1))"
   ]
  },
  {
   "cell_type": "code",
   "execution_count": 35,
   "id": "55e57162-becc-4609-b4ac-6e1354dcbfb8",
   "metadata": {},
   "outputs": [
    {
     "name": "stdout",
     "output_type": "stream",
     "text": [
      "This is the first line ...\n",
      "This is the second line ...\n",
      "This is the third line ...\n",
      "\n",
      "String\n"
     ]
    }
   ],
   "source": [
    "# Multiple line string ...\n",
    "s2 = \"\"\"This is the first line ...\n",
    "This is the second line ...\n",
    "This is the third line ...\n",
    "\"\"\"\n",
    "println(s2)\n",
    "println(typeof(s2))"
   ]
  },
  {
   "cell_type": "code",
   "execution_count": 36,
   "id": "667c9fde-3bc0-4abd-a3f0-bde25578f5c0",
   "metadata": {},
   "outputs": [
    {
     "name": "stdout",
     "output_type": "stream",
     "text": [
      "It \"is\" raining outside ...\n"
     ]
    }
   ],
   "source": [
    "s3 = \"\"\"It \"is\" raining outside ...\"\"\"\n",
    "println(s3)"
   ]
  },
  {
   "cell_type": "code",
   "execution_count": 38,
   "id": "ffad056c-dc20-45c9-b26c-151171bfea33",
   "metadata": {},
   "outputs": [
    {
     "name": "stdout",
     "output_type": "stream",
     "text": [
      "My grade is 34 ...\n",
      "My grade is 39 ...\n"
     ]
    }
   ],
   "source": [
    "# String interpolation \n",
    "grade = 34\n",
    "s4 = \"My grade is $grade ...\"\n",
    "println(s4)\n",
    "s5 = \"My grade is $(grade + 5) ...\"\n",
    "println(s5)"
   ]
  },
  {
   "cell_type": "code",
   "execution_count": 41,
   "id": "978588c4-5c87-4974-afaa-ce6a3a01810e",
   "metadata": {},
   "outputs": [
    {
     "name": "stdout",
     "output_type": "stream",
     "text": [
      "Julia Language Programming ... \n",
      "Julia Language Programming ... Julia Language Programming ... Julia Language Programming ... \n"
     ]
    }
   ],
   "source": [
    "# String concatenation\n",
    "s1 = \"Julia \"\n",
    "s2 = \"Language \"\n",
    "s3 = \"Programming ... \"\n",
    "s = s1 * s2 * s3\n",
    "println(s)\n",
    "println(s^3)"
   ]
  },
  {
   "cell_type": "code",
   "execution_count": 47,
   "id": "c027c258-3a39-448e-933d-ed47188fadad",
   "metadata": {},
   "outputs": [
    {
     "name": "stdout",
     "output_type": "stream",
     "text": [
      "Paulo\n",
      "love\n"
     ]
    }
   ],
   "source": [
    "# String index\n",
    "s = \"Paulo\"\n",
    "si = string(s[1],s[2],s[3],s[4],s[5])\n",
    "println(si)\n",
    "\n",
    "s = \"I love\"\n",
    "println(s[3:end])"
   ]
  }
 ],
 "metadata": {
  "kernelspec": {
   "display_name": "Julia 1.11.4",
   "language": "julia",
   "name": "julia-1.11"
  },
  "language_info": {
   "file_extension": ".jl",
   "mimetype": "application/julia",
   "name": "julia",
   "version": "1.11.4"
  }
 },
 "nbformat": 4,
 "nbformat_minor": 5
}
