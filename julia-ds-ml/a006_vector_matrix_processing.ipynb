{
 "cells": [
  {
   "cell_type": "markdown",
   "id": "04ab4336-8213-430c-90c1-4df12b08fae9",
   "metadata": {},
   "source": [
    "### Random Package"
   ]
  },
  {
   "cell_type": "code",
   "execution_count": 1,
   "id": "ecadd276-f48a-4df2-8b68-760415a68b83",
   "metadata": {},
   "outputs": [
    {
     "name": "stderr",
     "output_type": "stream",
     "text": [
      "\u001b[32m\u001b[1m   Resolving\u001b[22m\u001b[39m package versions...\n",
      "\u001b[32m\u001b[1m    Updating\u001b[22m\u001b[39m `C:\\Users\\paulo\\.julia\\environments\\v1.11\\Project.toml`\n",
      "  \u001b[90m[9a3f8284] \u001b[39m\u001b[92m+ Random v1.11.0\u001b[39m\n",
      "\u001b[32m\u001b[1m  No Changes\u001b[22m\u001b[39m to `C:\\Users\\paulo\\.julia\\environments\\v1.11\\Manifest.toml`\n"
     ]
    }
   ],
   "source": [
    "using Pkg\n",
    "Pkg.add(\"Random\")"
   ]
  },
  {
   "cell_type": "code",
   "execution_count": 2,
   "id": "3ed12611-668c-4f58-a3b0-70e8b4d666a2",
   "metadata": {},
   "outputs": [
    {
     "name": "stderr",
     "output_type": "stream",
     "text": [
      "\u001b[33m\u001b[1m┌ \u001b[22m\u001b[39m\u001b[33m\u001b[1mWarning: \u001b[22m\u001b[39mPkg.installed() is deprecated\n",
      "\u001b[33m\u001b[1m└ \u001b[22m\u001b[39m\u001b[90m@ Pkg C:\\Users\\paulo\\AppData\\Local\\Programs\\Julia-1.11.4\\share\\julia\\stdlib\\v1.11\\Pkg\\src\\Pkg.jl:787\u001b[39m\n"
     ]
    },
    {
     "data": {
      "text/plain": [
       "Dict{String, VersionNumber} with 4 entries:\n",
       "  \"Statistics\" => v\"1.11.1\"\n",
       "  \"IJulia\"     => v\"1.26.0\"\n",
       "  \"Plots\"      => v\"1.40.11\"\n",
       "  \"Random\"     => v\"1.11.0\""
      ]
     },
     "execution_count": 2,
     "metadata": {},
     "output_type": "execute_result"
    }
   ],
   "source": [
    "Pkg.installed()"
   ]
  },
  {
   "cell_type": "code",
   "execution_count": 14,
   "id": "f45f625f-9d3a-4920-b6be-125a81a77d2c",
   "metadata": {},
   "outputs": [
    {
     "data": {
      "text/plain": [
       "3×4 Matrix{Float64}:\n",
       " -0.497439  -0.80921  1.34903   -0.41968\n",
       " -1.99199    2.33456  0.294397  -0.166481\n",
       "  0.665828  -1.88404  1.67542   -0.976091"
      ]
     },
     "execution_count": 14,
     "metadata": {},
     "output_type": "execute_result"
    }
   ],
   "source": [
    "using Random\n",
    "X1 = rand(3,4)   # 3x4 matrix with uniformly distributed data\n",
    "X2 = randn(3,4)  # 3x4 matrix with normally distributed data"
   ]
  },
  {
   "cell_type": "markdown",
   "id": "92ea7575-deaa-4db0-8010-be674333b11b",
   "metadata": {},
   "source": [
    "### Algebra Operations"
   ]
  },
  {
   "cell_type": "code",
   "execution_count": 19,
   "id": "ed94e721-7df7-4ed2-b980-e31a5ab12c3c",
   "metadata": {},
   "outputs": [
    {
     "data": {
      "text/plain": [
       "2×3×2 Array{Float64, 3}:\n",
       "[:, :, 1] =\n",
       " 0.0  0.0  0.0\n",
       " 0.0  0.0  0.0\n",
       "\n",
       "[:, :, 2] =\n",
       " 0.0  0.0  0.0\n",
       " 0.0  0.0  0.0"
      ]
     },
     "execution_count": 19,
     "metadata": {},
     "output_type": "execute_result"
    }
   ],
   "source": [
    "A = ones(3,5)\n",
    "B = zeros(3,5)\n",
    "C = zeros(2,3,2)   # tensor concept!"
   ]
  },
  {
   "cell_type": "code",
   "execution_count": 20,
   "id": "69aae296-6407-43ec-aa92-e6d73305e40f",
   "metadata": {},
   "outputs": [
    {
     "name": "stderr",
     "output_type": "stream",
     "text": [
      "\u001b[33m\u001b[1m┌ \u001b[22m\u001b[39m\u001b[33m\u001b[1mWarning: \u001b[22m\u001b[39mPkg.installed() is deprecated\n",
      "\u001b[33m\u001b[1m└ \u001b[22m\u001b[39m\u001b[90m@ Pkg C:\\Users\\paulo\\AppData\\Local\\Programs\\Julia-1.11.4\\share\\julia\\stdlib\\v1.11\\Pkg\\src\\Pkg.jl:787\u001b[39m\n"
     ]
    },
    {
     "data": {
      "text/plain": [
       "Dict{String, VersionNumber} with 4 entries:\n",
       "  \"Statistics\" => v\"1.11.1\"\n",
       "  \"IJulia\"     => v\"1.26.0\"\n",
       "  \"Plots\"      => v\"1.40.11\"\n",
       "  \"Random\"     => v\"1.11.0\""
      ]
     },
     "execution_count": 20,
     "metadata": {},
     "output_type": "execute_result"
    }
   ],
   "source": [
    "using Pkg\n",
    "Pkg.installed()"
   ]
  },
  {
   "cell_type": "code",
   "execution_count": 21,
   "id": "78061a41-2ce4-4f2c-b7d4-289b4da80c96",
   "metadata": {},
   "outputs": [
    {
     "name": "stderr",
     "output_type": "stream",
     "text": [
      "\u001b[32m\u001b[1m   Resolving\u001b[22m\u001b[39m package versions...\n",
      "\u001b[32m\u001b[1m    Updating\u001b[22m\u001b[39m `C:\\Users\\paulo\\.julia\\environments\\v1.11\\Project.toml`\n",
      "  \u001b[90m[37e2e46d] \u001b[39m\u001b[92m+ LinearAlgebra v1.11.0\u001b[39m\n",
      "\u001b[32m\u001b[1m  No Changes\u001b[22m\u001b[39m to `C:\\Users\\paulo\\.julia\\environments\\v1.11\\Manifest.toml`\n",
      "\u001b[33m\u001b[1m┌ \u001b[22m\u001b[39m\u001b[33m\u001b[1mWarning: \u001b[22m\u001b[39mPkg.installed() is deprecated\n",
      "\u001b[33m\u001b[1m└ \u001b[22m\u001b[39m\u001b[90m@ Pkg C:\\Users\\paulo\\AppData\\Local\\Programs\\Julia-1.11.4\\share\\julia\\stdlib\\v1.11\\Pkg\\src\\Pkg.jl:787\u001b[39m\n"
     ]
    },
    {
     "data": {
      "text/plain": [
       "Dict{String, VersionNumber} with 5 entries:\n",
       "  \"Statistics\"    => v\"1.11.1\"\n",
       "  \"LinearAlgebra\" => v\"1.11.0\"\n",
       "  \"IJulia\"        => v\"1.26.0\"\n",
       "  \"Plots\"         => v\"1.40.11\"\n",
       "  \"Random\"        => v\"1.11.0\""
      ]
     },
     "execution_count": 21,
     "metadata": {},
     "output_type": "execute_result"
    }
   ],
   "source": [
    "Pkg.add(\"LinearAlgebra\")\n",
    "Pkg.installed()"
   ]
  },
  {
   "cell_type": "code",
   "execution_count": 22,
   "id": "35ae7f32-1cd2-412d-8641-74ef86c5aadb",
   "metadata": {},
   "outputs": [],
   "source": [
    "using LinearAlgebra"
   ]
  },
  {
   "cell_type": "code",
   "execution_count": 24,
   "id": "5b169b30-7b54-4f2f-b64c-6d89d0311fb6",
   "metadata": {},
   "outputs": [
    {
     "data": {
      "text/plain": [
       "10×10 Diagonal{Bool, Vector{Bool}}:\n",
       " 1  ⋅  ⋅  ⋅  ⋅  ⋅  ⋅  ⋅  ⋅  ⋅\n",
       " ⋅  1  ⋅  ⋅  ⋅  ⋅  ⋅  ⋅  ⋅  ⋅\n",
       " ⋅  ⋅  1  ⋅  ⋅  ⋅  ⋅  ⋅  ⋅  ⋅\n",
       " ⋅  ⋅  ⋅  1  ⋅  ⋅  ⋅  ⋅  ⋅  ⋅\n",
       " ⋅  ⋅  ⋅  ⋅  1  ⋅  ⋅  ⋅  ⋅  ⋅\n",
       " ⋅  ⋅  ⋅  ⋅  ⋅  1  ⋅  ⋅  ⋅  ⋅\n",
       " ⋅  ⋅  ⋅  ⋅  ⋅  ⋅  1  ⋅  ⋅  ⋅\n",
       " ⋅  ⋅  ⋅  ⋅  ⋅  ⋅  ⋅  1  ⋅  ⋅\n",
       " ⋅  ⋅  ⋅  ⋅  ⋅  ⋅  ⋅  ⋅  1  ⋅\n",
       " ⋅  ⋅  ⋅  ⋅  ⋅  ⋅  ⋅  ⋅  ⋅  1"
      ]
     },
     "execution_count": 24,
     "metadata": {},
     "output_type": "execute_result"
    }
   ],
   "source": [
    "# Identity matrix\n",
    "A = I(10)"
   ]
  },
  {
   "cell_type": "code",
   "execution_count": 28,
   "id": "86b4d777-79e0-4fc1-9dc7-c7ffd8761ae7",
   "metadata": {},
   "outputs": [
    {
     "data": {
      "text/plain": [
       "3×3 Matrix{Int64}:\n",
       " 2  4  5\n",
       " 1  2  3\n",
       " 6  7  0"
      ]
     },
     "execution_count": 28,
     "metadata": {},
     "output_type": "execute_result"
    }
   ],
   "source": [
    "M = [2 4 5; 1 2 3; 6 7 0]"
   ]
  },
  {
   "cell_type": "code",
   "execution_count": 29,
   "id": "f6a9600d-9b24-476b-b35d-61c9751fcdf6",
   "metadata": {},
   "outputs": [
    {
     "data": {
      "text/plain": [
       "Matrix{Int64}\u001b[90m (alias for \u001b[39m\u001b[90mArray{Int64, 2}\u001b[39m\u001b[90m)\u001b[39m"
      ]
     },
     "execution_count": 29,
     "metadata": {},
     "output_type": "execute_result"
    }
   ],
   "source": [
    "typeof(M)"
   ]
  },
  {
   "cell_type": "code",
   "execution_count": 30,
   "id": "003a3555-b06b-413d-9de5-badba7dbb7e1",
   "metadata": {},
   "outputs": [
    {
     "data": {
      "text/plain": [
       "(3, 3)"
      ]
     },
     "execution_count": 30,
     "metadata": {},
     "output_type": "execute_result"
    }
   ],
   "source": [
    "size(M)"
   ]
  },
  {
   "cell_type": "code",
   "execution_count": 33,
   "id": "066bdaef-0dc3-4b9f-b61f-3f4905c87988",
   "metadata": {},
   "outputs": [
    {
     "data": {
      "text/plain": [
       "3-element Vector{Int64}:\n",
       " 2\n",
       " 1\n",
       " 6"
      ]
     },
     "execution_count": 33,
     "metadata": {},
     "output_type": "execute_result"
    }
   ],
   "source": [
    "M[1,:]\n",
    "M[:,1]"
   ]
  },
  {
   "cell_type": "code",
   "execution_count": 36,
   "id": "582be063-91cc-40a3-86dc-bc4c40cc6ce4",
   "metadata": {},
   "outputs": [
    {
     "data": {
      "text/plain": [
       "6×3 Matrix{Int64}:\n",
       " 2  4  5\n",
       " 1  2  3\n",
       " 6  7  0\n",
       " 1  2  3\n",
       " 4  5  6\n",
       " 7  8  9"
      ]
     },
     "execution_count": 36,
     "metadata": {},
     "output_type": "execute_result"
    }
   ],
   "source": [
    "M = [2 4 5; 1 2 3; 6 7 0]\n",
    "N = [1 2 3; 4 5 6; 7 8 9]\n",
    "\n",
    "# Matrix concatenation\n",
    "C = [M N]\n",
    "C = [M; N]"
   ]
  },
  {
   "cell_type": "code",
   "execution_count": 51,
   "id": "935e44fc-64ae-40b7-a56c-fded22b58947",
   "metadata": {},
   "outputs": [
    {
     "data": {
      "text/plain": [
       "3-element Vector{Float64}:\n",
       " -5.352954259951673\n",
       " -0.09882411688237432\n",
       "  9.451778376834048"
      ]
     },
     "execution_count": 51,
     "metadata": {},
     "output_type": "execute_result"
    }
   ],
   "source": [
    "# Linear algebra operations\n",
    "M\n",
    "transpose(M)\n",
    "tr(M)\n",
    "det(M)\n",
    "inv(M)\n",
    "M*inv(M)\n",
    "UpperTriangular(M)\n",
    "LowerTriangular(M)\n",
    "eigvecs(M)\n",
    "eigvals(M)"
   ]
  }
 ],
 "metadata": {
  "kernelspec": {
   "display_name": "Julia 1.11.4",
   "language": "julia",
   "name": "julia-1.11"
  },
  "language_info": {
   "file_extension": ".jl",
   "mimetype": "application/julia",
   "name": "julia",
   "version": "1.11.4"
  }
 },
 "nbformat": 4,
 "nbformat_minor": 5
}
