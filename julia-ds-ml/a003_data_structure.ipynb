{
 "cells": [
  {
   "cell_type": "markdown",
   "id": "94a63922-c09d-4868-b08b-bab52441150d",
   "metadata": {},
   "source": [
    "### Arrays"
   ]
  },
  {
   "cell_type": "code",
   "execution_count": 4,
   "id": "8e2c1389-7ac9-4090-a223-faefb0afd6f1",
   "metadata": {},
   "outputs": [
    {
     "name": "stdout",
     "output_type": "stream",
     "text": [
      "Any[\"Hello\", 2, 45.7, true, 2.0 + 3.0im]\n"
     ]
    }
   ],
   "source": [
    "[3, 5, 9]\n",
    "[3, 5, 9] + [1, 2, 3]\n",
    "arr = [\"Hello\", 2, 45.7, true, 2.0+3.0im]\n",
    "println(arr)"
   ]
  },
  {
   "cell_type": "code",
   "execution_count": 5,
   "id": "9f273012-1e93-4a66-8e86-297af41558bf",
   "metadata": {},
   "outputs": [
    {
     "data": {
      "text/plain": [
       "5"
      ]
     },
     "execution_count": 5,
     "metadata": {},
     "output_type": "execute_result"
    }
   ],
   "source": [
    "length(arr)"
   ]
  },
  {
   "cell_type": "code",
   "execution_count": 6,
   "id": "bc5618a2-636a-4932-a1dd-5f41302b7d00",
   "metadata": {},
   "outputs": [
    {
     "data": {
      "text/plain": [
       "Vector{Any}\u001b[90m (alias for \u001b[39m\u001b[90mArray{Any, 1}\u001b[39m\u001b[90m)\u001b[39m"
      ]
     },
     "execution_count": 6,
     "metadata": {},
     "output_type": "execute_result"
    }
   ],
   "source": [
    "typeof(arr)"
   ]
  },
  {
   "cell_type": "code",
   "execution_count": 8,
   "id": "3d086d9d-4554-4846-8ba0-f82855691994",
   "metadata": {},
   "outputs": [
    {
     "data": {
      "text/plain": [
       "9"
      ]
     },
     "execution_count": 8,
     "metadata": {},
     "output_type": "execute_result"
    }
   ],
   "source": [
    "minimum([3, 5, 9])\n",
    "maximum([3, 5, 9])"
   ]
  },
  {
   "cell_type": "code",
   "execution_count": 10,
   "id": "861a4ff9-5f90-4e83-8c48-b55b45dd3db3",
   "metadata": {},
   "outputs": [
    {
     "data": {
      "text/plain": [
       "2.0 + 3.0im"
      ]
     },
     "execution_count": 10,
     "metadata": {},
     "output_type": "execute_result"
    }
   ],
   "source": [
    "arr = [\"Hello\", 2, 45.7, true, 2.0+3.0im]\n",
    "arr[1]\n",
    "arr[2]\n",
    "arr[3]\n",
    "arr[4]\n",
    "arr[5]"
   ]
  },
  {
   "cell_type": "code",
   "execution_count": 11,
   "id": "250c01c9-a884-46c3-ba7b-8b747bd29333",
   "metadata": {},
   "outputs": [
    {
     "data": {
      "text/plain": [
       "3-element Vector{Any}:\n",
       "    2\n",
       "   45.7\n",
       " true"
      ]
     },
     "execution_count": 11,
     "metadata": {},
     "output_type": "execute_result"
    }
   ],
   "source": [
    "arr[2:4]"
   ]
  },
  {
   "cell_type": "code",
   "execution_count": 16,
   "id": "2646b6ba-4cdf-47da-8e91-2b31fb389a0e",
   "metadata": {},
   "outputs": [
    {
     "data": {
      "text/plain": [
       "3-element Vector{Float64}:\n",
       " 1.0\n",
       " 1.0\n",
       " 1.0"
      ]
     },
     "execution_count": 16,
     "metadata": {},
     "output_type": "execute_result"
    }
   ],
   "source": [
    "# Special arrays ...\n",
    "zeros(4)\n",
    "ones(3)"
   ]
  },
  {
   "cell_type": "code",
   "execution_count": 24,
   "id": "ccceaaa4-a32c-460a-9879-6ab3cb31c14a",
   "metadata": {},
   "outputs": [
    {
     "name": "stdout",
     "output_type": "stream",
     "text": [
      "[0.0, 0.0, 0.0]\n",
      "[0.0, 0.0, 0.0, 1.0]\n"
     ]
    },
    {
     "data": {
      "text/plain": [
       "-10:5:35"
      ]
     },
     "execution_count": 24,
     "metadata": {},
     "output_type": "execute_result"
    }
   ],
   "source": [
    "# Array functions ...\n",
    "arr = zeros(3)\n",
    "println(arr)\n",
    "push!(arr, 1)\n",
    "println(arr)\n",
    "\n",
    "arr = [3, 5, -1]\n",
    "sort(arr)\n",
    "\n",
    "range(1, stop=100)\n",
    "range(-10, step=5, length=10)"
   ]
  },
  {
   "cell_type": "code",
   "execution_count": 26,
   "id": "340268bc-7e72-438e-9ccd-2c88915576c0",
   "metadata": {},
   "outputs": [
    {
     "name": "stdout",
     "output_type": "stream",
     "text": [
      "[1, 2, 3, 4, 5][1, 2, 3, 4, 5]\n",
      "[100, 2, 3, 4, 5][100, 2, 3, 4, 5]\n"
     ]
    }
   ],
   "source": [
    "# Function copy()\n",
    "arr1 = [1, 2, 3, 4, 5]\n",
    "arr2 = arr1\n",
    "println(arr1, arr2)\n",
    "arr2[1] = 100\n",
    "println(arr1, arr2)"
   ]
  },
  {
   "cell_type": "code",
   "execution_count": 30,
   "id": "2e6abee1-ce91-4fb4-a44d-b50aa9bdd044",
   "metadata": {},
   "outputs": [
    {
     "name": "stdout",
     "output_type": "stream",
     "text": [
      "[1, 2, 3, 4, 5][1, 2, 3, 4, 5]\n",
      "[1, 2, 3, 4, 5][5000, 2, 3, 4, 5]\n"
     ]
    }
   ],
   "source": [
    "arr1 = [1, 2, 3, 4, 5]\n",
    "arr2 = copy(arr1)\n",
    "println(arr1, arr2)\n",
    "arr2[1] = 5000\n",
    "println(arr1, arr2)"
   ]
  },
  {
   "cell_type": "code",
   "execution_count": 32,
   "id": "3b68429b-1a8d-483b-85af-de1954842f72",
   "metadata": {},
   "outputs": [
    {
     "data": {
      "text/plain": [
       "false"
      ]
     },
     "execution_count": 32,
     "metadata": {},
     "output_type": "execute_result"
    }
   ],
   "source": [
    "# Function in()\n",
    "arr = [1, 2, 3, 4, 5]\n",
    "in(1, arr)\n",
    "in(\"1\", arr)"
   ]
  },
  {
   "cell_type": "markdown",
   "id": "542d2666-20a3-4029-b56d-5735d8b630df",
   "metadata": {},
   "source": [
    "### Tuples"
   ]
  },
  {
   "cell_type": "code",
   "execution_count": 39,
   "id": "2d48c312-893a-4636-8f62-37a3f0a4df22",
   "metadata": {},
   "outputs": [
    {
     "name": "stdout",
     "output_type": "stream",
     "text": [
      "36true\n"
     ]
    }
   ],
   "source": [
    "#=\n",
    "Arrays: []\n",
    "Tuples: ()\n",
    "=#\n",
    "\n",
    "t1 = (3, 6, true)\n",
    "typeof(t1)\n",
    "println(t1[1], t1[2], t1[3])\n",
    "#t1[2] = \"hello\"   # tuples are immutable!"
   ]
  },
  {
   "cell_type": "markdown",
   "id": "0c93882c-9b20-4b1e-a7ac-4cff36e63faa",
   "metadata": {},
   "source": [
    "### Dictionary"
   ]
  },
  {
   "cell_type": "code",
   "execution_count": 55,
   "id": "20258f92-a455-4669-8c8b-94700a1b8a76",
   "metadata": {},
   "outputs": [
    {
     "name": "stdout",
     "output_type": "stream",
     "text": [
      "Dict(\"John\" => \"5555\", \"Alice\" => \"1111\", \"Bob\" => \"3333\")\n",
      "Dict{String, String}\n",
      "[\"John\", \"Alice\", \"Bob\"]\n",
      "[\"5555\", \"1111\", \"3333\"]\n",
      "5555\n",
      "John : 5555\n",
      "Alice : 1111\n",
      "Bob : 3333\n"
     ]
    }
   ],
   "source": [
    "#=\n",
    "Arrays: []\n",
    "Tuples: []\n",
    "Dictionaries: Dict(key=>value)\n",
    "=#\n",
    "\n",
    "phone = Dict(\"John\"=>\"5555\", \"Alice\"=>\"1111\", \"Bob\"=>\"3333\")\n",
    "println(phone)\n",
    "println(typeof(phone))\n",
    "println(keys(phone))\n",
    "println(values(phone))\n",
    "println(phone[\"John\"])\n",
    "\n",
    "for (k, v) in phone\n",
    "    println(\"$k : $v\")\n",
    "end"
   ]
  },
  {
   "cell_type": "code",
   "execution_count": 56,
   "id": "8b727909-0861-403e-9308-0fdb096d6f6f",
   "metadata": {},
   "outputs": [
    {
     "name": "stdout",
     "output_type": "stream",
     "text": [
      "[\"John\", \"Alice\", \"Bob\"]\n",
      "[\"5555\", \"1111\", \"3333\"]\n"
     ]
    }
   ],
   "source": [
    "phone = Dict(\"John\"=>\"5555\", \"Alice\"=>\"1111\", \"Bob\"=>\"3333\")\n",
    "names = collect(keys(phone))\n",
    "numbers = collect(values(phone))\n",
    "println(names)\n",
    "println(numbers)"
   ]
  },
  {
   "cell_type": "markdown",
   "id": "2bc67c2d-828f-467c-adf3-89389e9f019e",
   "metadata": {},
   "source": [
    "### Sets"
   ]
  },
  {
   "cell_type": "code",
   "execution_count": 61,
   "id": "52006c9e-76c0-4a1c-92b0-993fb5a1abe0",
   "metadata": {},
   "outputs": [
    {
     "name": "stdout",
     "output_type": "stream",
     "text": [
      "Set([6, 3, 1])\n",
      "Set([6, 3, 1])\n"
     ]
    }
   ],
   "source": [
    "#=\n",
    "Arrays: []\n",
    "Tuples: ()\n",
    "Dictionaries: Dict(key=>value)\n",
    "Sets: Set()\n",
    "=#\n",
    "\n",
    "# In sets, repeated or duplicated elements are automatically discarded ...\n",
    "x = Set([1, 3, 6])\n",
    "println(x)\n",
    "\n",
    "x = Set([1, 3, 6, 6, 6, 6])\n",
    "println(x)"
   ]
  },
  {
   "cell_type": "code",
   "execution_count": 65,
   "id": "f75195d0-0845-4e86-be84-43a754092223",
   "metadata": {},
   "outputs": [
    {
     "data": {
      "text/plain": [
       "Set{Int64} with 2 elements:\n",
       "  6\n",
       "  3"
      ]
     },
     "execution_count": 65,
     "metadata": {},
     "output_type": "execute_result"
    }
   ],
   "source": [
    "s1 = Set([1, 3, 6, 6])\n",
    "s2 = Set([3, 6, 4, 3])\n",
    "\n",
    "# Set operations\n",
    "union(s1, s2)\n",
    "intersect(s1, s2)"
   ]
  }
 ],
 "metadata": {
  "kernelspec": {
   "display_name": "Julia 1.11.4",
   "language": "julia",
   "name": "julia-1.11"
  },
  "language_info": {
   "file_extension": ".jl",
   "mimetype": "application/julia",
   "name": "julia",
   "version": "1.11.4"
  }
 },
 "nbformat": 4,
 "nbformat_minor": 5
}
